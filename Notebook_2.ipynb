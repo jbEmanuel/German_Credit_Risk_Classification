{
  "nbformat": 4,
  "nbformat_minor": 0,
  "metadata": {
    "colab": {
      "name": "Notebook 2.ipynb",
      "provenance": [],
      "authorship_tag": "ABX9TyMeka7Gbh0IsZutb8ymg24X",
      "include_colab_link": true
    },
    "kernelspec": {
      "name": "python3",
      "display_name": "Python 3"
    },
    "language_info": {
      "name": "python"
    }
  },
  "cells": [
    {
      "cell_type": "markdown",
      "metadata": {
        "id": "view-in-github",
        "colab_type": "text"
      },
      "source": [
        "<a href=\"https://colab.research.google.com/github/jbEmanuel/German_Credit_Risk_Classification/blob/main/Notebook_2.ipynb\" target=\"_parent\"><img src=\"https://colab.research.google.com/assets/colab-badge.svg\" alt=\"Open In Colab\"/></a>"
      ]
    },
    {
      "cell_type": "code",
      "execution_count": 11,
      "metadata": {
        "id": "F7JG9MimSVmd"
      },
      "outputs": [],
      "source": [
        "import pandas as pd\n",
        "import numpy as np\n",
        "import matplotlib.pyplot as plt\n",
        "import seaborn as sns\n",
        "from scipy import stats\n",
        "from sklearn.model_selection import train_test_split\n",
        "from sklearn.metrics import confusion_matrix\n",
        "from sklearn.preprocessing import RobustScaler\n",
        "from sklearn.linear_model import LogisticRegression\n",
        "from sklearn.pipeline import make_pipeline\n",
        "from sklearn.metrics import confusion_matrix, accuracy_score, f1_score, roc_auc_score\n"
      ]
    },
    {
      "cell_type": "code",
      "source": [
        "df = pd.read_csv('/content/clean_data.csv')\n",
        "df.head()"
      ],
      "metadata": {
        "colab": {
          "base_uri": "https://localhost:8080/",
          "height": 270
        },
        "id": "D6szAGsfb1Gw",
        "outputId": "f992713a-4603-4279-b34a-e0e9e6fbf1e7"
      },
      "execution_count": 12,
      "outputs": [
        {
          "output_type": "execute_result",
          "data": {
            "text/html": [
              "\n",
              "  <div id=\"df-729324aa-0689-47f5-a44c-6ca0fbba6d8d\">\n",
              "    <div class=\"colab-df-container\">\n",
              "      <div>\n",
              "<style scoped>\n",
              "    .dataframe tbody tr th:only-of-type {\n",
              "        vertical-align: middle;\n",
              "    }\n",
              "\n",
              "    .dataframe tbody tr th {\n",
              "        vertical-align: top;\n",
              "    }\n",
              "\n",
              "    .dataframe thead th {\n",
              "        text-align: right;\n",
              "    }\n",
              "</style>\n",
              "<table border=\"1\" class=\"dataframe\">\n",
              "  <thead>\n",
              "    <tr style=\"text-align: right;\">\n",
              "      <th></th>\n",
              "      <th>status</th>\n",
              "      <th>duration</th>\n",
              "      <th>credit_history</th>\n",
              "      <th>amount</th>\n",
              "      <th>savings</th>\n",
              "      <th>employment_duration</th>\n",
              "      <th>installment_rate</th>\n",
              "      <th>personal_status_sex</th>\n",
              "      <th>other_debtors</th>\n",
              "      <th>present_residence</th>\n",
              "      <th>property</th>\n",
              "      <th>age</th>\n",
              "      <th>other_installment_plans</th>\n",
              "      <th>housing</th>\n",
              "      <th>number_credits</th>\n",
              "      <th>job</th>\n",
              "      <th>people_liable</th>\n",
              "      <th>telephone</th>\n",
              "      <th>foreign_worker</th>\n",
              "      <th>credit_risk</th>\n",
              "      <th>log_amount</th>\n",
              "      <th>log_age</th>\n",
              "      <th>w_age</th>\n",
              "      <th>w_amount</th>\n",
              "      <th>iqr_age</th>\n",
              "      <th>z_age</th>\n",
              "      <th>z_amount</th>\n",
              "      <th>iqr_amount</th>\n",
              "      <th>purpose_0</th>\n",
              "      <th>purpose_1</th>\n",
              "      <th>purpose_2</th>\n",
              "      <th>purpose_3</th>\n",
              "      <th>purpose_4</th>\n",
              "      <th>purpose_5</th>\n",
              "      <th>purpose_6</th>\n",
              "      <th>purpose_8</th>\n",
              "      <th>purpose_9</th>\n",
              "      <th>purpose_10</th>\n",
              "    </tr>\n",
              "  </thead>\n",
              "  <tbody>\n",
              "    <tr>\n",
              "      <th>0</th>\n",
              "      <td>1</td>\n",
              "      <td>18</td>\n",
              "      <td>4</td>\n",
              "      <td>1049</td>\n",
              "      <td>1</td>\n",
              "      <td>2</td>\n",
              "      <td>4</td>\n",
              "      <td>2</td>\n",
              "      <td>1</td>\n",
              "      <td>4</td>\n",
              "      <td>2</td>\n",
              "      <td>21</td>\n",
              "      <td>3</td>\n",
              "      <td>1</td>\n",
              "      <td>1</td>\n",
              "      <td>3</td>\n",
              "      <td>2</td>\n",
              "      <td>1</td>\n",
              "      <td>2</td>\n",
              "      <td>1</td>\n",
              "      <td>6.955593</td>\n",
              "      <td>3.044522</td>\n",
              "      <td>22.0</td>\n",
              "      <td>1049.0</td>\n",
              "      <td>21.0</td>\n",
              "      <td>21.0</td>\n",
              "      <td>1049.0</td>\n",
              "      <td>1049.0</td>\n",
              "      <td>0</td>\n",
              "      <td>0</td>\n",
              "      <td>1</td>\n",
              "      <td>0</td>\n",
              "      <td>0</td>\n",
              "      <td>0</td>\n",
              "      <td>0</td>\n",
              "      <td>0</td>\n",
              "      <td>0</td>\n",
              "      <td>0</td>\n",
              "    </tr>\n",
              "    <tr>\n",
              "      <th>1</th>\n",
              "      <td>1</td>\n",
              "      <td>9</td>\n",
              "      <td>4</td>\n",
              "      <td>2799</td>\n",
              "      <td>1</td>\n",
              "      <td>3</td>\n",
              "      <td>2</td>\n",
              "      <td>3</td>\n",
              "      <td>1</td>\n",
              "      <td>2</td>\n",
              "      <td>1</td>\n",
              "      <td>36</td>\n",
              "      <td>3</td>\n",
              "      <td>1</td>\n",
              "      <td>2</td>\n",
              "      <td>3</td>\n",
              "      <td>1</td>\n",
              "      <td>1</td>\n",
              "      <td>2</td>\n",
              "      <td>1</td>\n",
              "      <td>7.937017</td>\n",
              "      <td>3.583519</td>\n",
              "      <td>36.0</td>\n",
              "      <td>2799.0</td>\n",
              "      <td>36.0</td>\n",
              "      <td>36.0</td>\n",
              "      <td>2799.0</td>\n",
              "      <td>2799.0</td>\n",
              "      <td>1</td>\n",
              "      <td>0</td>\n",
              "      <td>0</td>\n",
              "      <td>0</td>\n",
              "      <td>0</td>\n",
              "      <td>0</td>\n",
              "      <td>0</td>\n",
              "      <td>0</td>\n",
              "      <td>0</td>\n",
              "      <td>0</td>\n",
              "    </tr>\n",
              "    <tr>\n",
              "      <th>2</th>\n",
              "      <td>2</td>\n",
              "      <td>12</td>\n",
              "      <td>2</td>\n",
              "      <td>841</td>\n",
              "      <td>2</td>\n",
              "      <td>4</td>\n",
              "      <td>2</td>\n",
              "      <td>2</td>\n",
              "      <td>1</td>\n",
              "      <td>4</td>\n",
              "      <td>1</td>\n",
              "      <td>23</td>\n",
              "      <td>3</td>\n",
              "      <td>1</td>\n",
              "      <td>1</td>\n",
              "      <td>2</td>\n",
              "      <td>2</td>\n",
              "      <td>1</td>\n",
              "      <td>2</td>\n",
              "      <td>1</td>\n",
              "      <td>6.734592</td>\n",
              "      <td>3.135494</td>\n",
              "      <td>23.0</td>\n",
              "      <td>841.0</td>\n",
              "      <td>23.0</td>\n",
              "      <td>23.0</td>\n",
              "      <td>841.0</td>\n",
              "      <td>841.0</td>\n",
              "      <td>0</td>\n",
              "      <td>0</td>\n",
              "      <td>0</td>\n",
              "      <td>0</td>\n",
              "      <td>0</td>\n",
              "      <td>0</td>\n",
              "      <td>0</td>\n",
              "      <td>0</td>\n",
              "      <td>1</td>\n",
              "      <td>0</td>\n",
              "    </tr>\n",
              "    <tr>\n",
              "      <th>3</th>\n",
              "      <td>1</td>\n",
              "      <td>12</td>\n",
              "      <td>4</td>\n",
              "      <td>2122</td>\n",
              "      <td>1</td>\n",
              "      <td>3</td>\n",
              "      <td>3</td>\n",
              "      <td>3</td>\n",
              "      <td>1</td>\n",
              "      <td>2</td>\n",
              "      <td>1</td>\n",
              "      <td>39</td>\n",
              "      <td>3</td>\n",
              "      <td>1</td>\n",
              "      <td>2</td>\n",
              "      <td>2</td>\n",
              "      <td>1</td>\n",
              "      <td>1</td>\n",
              "      <td>1</td>\n",
              "      <td>1</td>\n",
              "      <td>7.660114</td>\n",
              "      <td>3.663562</td>\n",
              "      <td>39.0</td>\n",
              "      <td>2122.0</td>\n",
              "      <td>39.0</td>\n",
              "      <td>39.0</td>\n",
              "      <td>2122.0</td>\n",
              "      <td>2122.0</td>\n",
              "      <td>1</td>\n",
              "      <td>0</td>\n",
              "      <td>0</td>\n",
              "      <td>0</td>\n",
              "      <td>0</td>\n",
              "      <td>0</td>\n",
              "      <td>0</td>\n",
              "      <td>0</td>\n",
              "      <td>0</td>\n",
              "      <td>0</td>\n",
              "    </tr>\n",
              "    <tr>\n",
              "      <th>4</th>\n",
              "      <td>1</td>\n",
              "      <td>10</td>\n",
              "      <td>4</td>\n",
              "      <td>2241</td>\n",
              "      <td>1</td>\n",
              "      <td>2</td>\n",
              "      <td>1</td>\n",
              "      <td>3</td>\n",
              "      <td>1</td>\n",
              "      <td>3</td>\n",
              "      <td>1</td>\n",
              "      <td>48</td>\n",
              "      <td>3</td>\n",
              "      <td>1</td>\n",
              "      <td>2</td>\n",
              "      <td>2</td>\n",
              "      <td>1</td>\n",
              "      <td>1</td>\n",
              "      <td>1</td>\n",
              "      <td>1</td>\n",
              "      <td>7.714677</td>\n",
              "      <td>3.871201</td>\n",
              "      <td>48.0</td>\n",
              "      <td>2241.0</td>\n",
              "      <td>48.0</td>\n",
              "      <td>48.0</td>\n",
              "      <td>2241.0</td>\n",
              "      <td>2241.0</td>\n",
              "      <td>1</td>\n",
              "      <td>0</td>\n",
              "      <td>0</td>\n",
              "      <td>0</td>\n",
              "      <td>0</td>\n",
              "      <td>0</td>\n",
              "      <td>0</td>\n",
              "      <td>0</td>\n",
              "      <td>0</td>\n",
              "      <td>0</td>\n",
              "    </tr>\n",
              "  </tbody>\n",
              "</table>\n",
              "</div>\n",
              "      <button class=\"colab-df-convert\" onclick=\"convertToInteractive('df-729324aa-0689-47f5-a44c-6ca0fbba6d8d')\"\n",
              "              title=\"Convert this dataframe to an interactive table.\"\n",
              "              style=\"display:none;\">\n",
              "        \n",
              "  <svg xmlns=\"http://www.w3.org/2000/svg\" height=\"24px\"viewBox=\"0 0 24 24\"\n",
              "       width=\"24px\">\n",
              "    <path d=\"M0 0h24v24H0V0z\" fill=\"none\"/>\n",
              "    <path d=\"M18.56 5.44l.94 2.06.94-2.06 2.06-.94-2.06-.94-.94-2.06-.94 2.06-2.06.94zm-11 1L8.5 8.5l.94-2.06 2.06-.94-2.06-.94L8.5 2.5l-.94 2.06-2.06.94zm10 10l.94 2.06.94-2.06 2.06-.94-2.06-.94-.94-2.06-.94 2.06-2.06.94z\"/><path d=\"M17.41 7.96l-1.37-1.37c-.4-.4-.92-.59-1.43-.59-.52 0-1.04.2-1.43.59L10.3 9.45l-7.72 7.72c-.78.78-.78 2.05 0 2.83L4 21.41c.39.39.9.59 1.41.59.51 0 1.02-.2 1.41-.59l7.78-7.78 2.81-2.81c.8-.78.8-2.07 0-2.86zM5.41 20L4 18.59l7.72-7.72 1.47 1.35L5.41 20z\"/>\n",
              "  </svg>\n",
              "      </button>\n",
              "      \n",
              "  <style>\n",
              "    .colab-df-container {\n",
              "      display:flex;\n",
              "      flex-wrap:wrap;\n",
              "      gap: 12px;\n",
              "    }\n",
              "\n",
              "    .colab-df-convert {\n",
              "      background-color: #E8F0FE;\n",
              "      border: none;\n",
              "      border-radius: 50%;\n",
              "      cursor: pointer;\n",
              "      display: none;\n",
              "      fill: #1967D2;\n",
              "      height: 32px;\n",
              "      padding: 0 0 0 0;\n",
              "      width: 32px;\n",
              "    }\n",
              "\n",
              "    .colab-df-convert:hover {\n",
              "      background-color: #E2EBFA;\n",
              "      box-shadow: 0px 1px 2px rgba(60, 64, 67, 0.3), 0px 1px 3px 1px rgba(60, 64, 67, 0.15);\n",
              "      fill: #174EA6;\n",
              "    }\n",
              "\n",
              "    [theme=dark] .colab-df-convert {\n",
              "      background-color: #3B4455;\n",
              "      fill: #D2E3FC;\n",
              "    }\n",
              "\n",
              "    [theme=dark] .colab-df-convert:hover {\n",
              "      background-color: #434B5C;\n",
              "      box-shadow: 0px 1px 3px 1px rgba(0, 0, 0, 0.15);\n",
              "      filter: drop-shadow(0px 1px 2px rgba(0, 0, 0, 0.3));\n",
              "      fill: #FFFFFF;\n",
              "    }\n",
              "  </style>\n",
              "\n",
              "      <script>\n",
              "        const buttonEl =\n",
              "          document.querySelector('#df-729324aa-0689-47f5-a44c-6ca0fbba6d8d button.colab-df-convert');\n",
              "        buttonEl.style.display =\n",
              "          google.colab.kernel.accessAllowed ? 'block' : 'none';\n",
              "\n",
              "        async function convertToInteractive(key) {\n",
              "          const element = document.querySelector('#df-729324aa-0689-47f5-a44c-6ca0fbba6d8d');\n",
              "          const dataTable =\n",
              "            await google.colab.kernel.invokeFunction('convertToInteractive',\n",
              "                                                     [key], {});\n",
              "          if (!dataTable) return;\n",
              "\n",
              "          const docLinkHtml = 'Like what you see? Visit the ' +\n",
              "            '<a target=\"_blank\" href=https://colab.research.google.com/notebooks/data_table.ipynb>data table notebook</a>'\n",
              "            + ' to learn more about interactive tables.';\n",
              "          element.innerHTML = '';\n",
              "          dataTable['output_type'] = 'display_data';\n",
              "          await google.colab.output.renderOutput(dataTable, element);\n",
              "          const docLink = document.createElement('div');\n",
              "          docLink.innerHTML = docLinkHtml;\n",
              "          element.appendChild(docLink);\n",
              "        }\n",
              "      </script>\n",
              "    </div>\n",
              "  </div>\n",
              "  "
            ],
            "text/plain": [
              "   status  duration  credit_history  ...  purpose_8  purpose_9  purpose_10\n",
              "0       1        18               4  ...          0          0           0\n",
              "1       1         9               4  ...          0          0           0\n",
              "2       2        12               2  ...          0          1           0\n",
              "3       1        12               4  ...          0          0           0\n",
              "4       1        10               4  ...          0          0           0\n",
              "\n",
              "[5 rows x 38 columns]"
            ]
          },
          "metadata": {},
          "execution_count": 12
        }
      ]
    },
    {
      "cell_type": "code",
      "source": [
        "X = df.drop(['credit_risk','iqr_amount', 'z_amount', 'z_age', 'w_amount', 'w_age', 'log_age', 'purpose_10'], axis =1)\n",
        "y = df['credit_risk'].values\n",
        "X.shape, y.shape"
      ],
      "metadata": {
        "colab": {
          "base_uri": "https://localhost:8080/"
        },
        "id": "d8gNn07tcGBu",
        "outputId": "1cecc105-3851-4145-be04-69ab5ccdedd4"
      },
      "execution_count": 13,
      "outputs": [
        {
          "output_type": "execute_result",
          "data": {
            "text/plain": [
              "((800, 30), (800,))"
            ]
          },
          "metadata": {},
          "execution_count": 13
        }
      ]
    },
    {
      "cell_type": "code",
      "source": [
        "# Divide in train and test data\n",
        "X_train, X_test, y_train, y_test = train_test_split(X, y, test_size=0.30, random_state=42, stratify = y)"
      ],
      "metadata": {
        "id": "lNF4PGBVc6pB"
      },
      "execution_count": null,
      "outputs": []
    },
    {
      "cell_type": "code",
      "source": [
        "y_test.shape"
      ],
      "metadata": {
        "colab": {
          "base_uri": "https://localhost:8080/"
        },
        "id": "MRQLnuJOfwyH",
        "outputId": "0417413b-4df2-45c9-8ce5-4cb257dfcdb0"
      },
      "execution_count": null,
      "outputs": [
        {
          "output_type": "execute_result",
          "data": {
            "text/plain": [
              "(240,)"
            ]
          },
          "metadata": {},
          "execution_count": 5
        }
      ]
    },
    {
      "cell_type": "code",
      "source": [
        "# Verify if classes are balanced\n",
        "print('Labels counts in y:', np.bincount(y))\n",
        "print('Labels counts in y_train:', np.bincount(y_train))\n",
        "print('Labels counts in y_test:', np.bincount(y_test))"
      ],
      "metadata": {
        "colab": {
          "base_uri": "https://localhost:8080/"
        },
        "id": "LDgUtX1Ic-Gg",
        "outputId": "e73f8487-e1b8-4be1-b031-56e16a3fbc6f"
      },
      "execution_count": null,
      "outputs": [
        {
          "output_type": "stream",
          "name": "stdout",
          "text": [
            "Labels counts in y: [200 600]\n",
            "Labels counts in y_train: [140 420]\n",
            "Labels counts in y_test: [ 60 180]\n"
          ]
        }
      ]
    },
    {
      "cell_type": "code",
      "source": [
        "stdsc = RobustScaler()\n",
        "X_std_r = stdsc.fit_transform(X_train)\n",
        "X_test_std_r = stdsc.transform(X_test)"
      ],
      "metadata": {
        "id": "4sI9IAzkimil"
      },
      "execution_count": null,
      "outputs": []
    },
    {
      "cell_type": "code",
      "source": [
        "from sklearn.ensemble import RandomForestClassifier, GradientBoostingClassifier\n",
        "from sklearn.tree import DecisionTreeClassifier\n",
        "from sklearn.neighbors import KNeighborsClassifier\n",
        "from sklearn.svm import SVC\n",
        "from sklearn.linear_model import LogisticRegression\n",
        "from sklearn.model_selection import train_test_split, GridSearchCV\n",
        "from sklearn.metrics import confusion_matrix, accuracy_score, f1_score, roc_auc_score\n",
        "\n",
        "rstate = 79\n",
        "\n",
        "def CheckModels(dfX, dfY, dfx, dfy):\n",
        "    \n",
        "    LModels = [\"RandomForest\", \"GBoosting\", \"SVC\", \"LogisticRegression\", \"DecisionTreeClassifier\", \"knn\"]\n",
        "\n",
        "    for Classifier in LModels:\n",
        "        ## Model training\n",
        "        if Classifier==\"RandomForest\":\n",
        "            rf = RandomForestClassifier(random_state=rstate)\n",
        "            rf.fit(dfX, dfY)\n",
        "            y_pred_rf = rf.predict(dfx)\n",
        "        if Classifier==\"SVC\":       \n",
        "            svc= SVC(kernel='rbf', C=1.0, random_state=rstate, gamma = 0.2)\n",
        "            svc.fit(dfX, dfY)\n",
        "            y_pred_svc = svc.predict(dfx)\n",
        "        if Classifier==\"GBoosting\":\n",
        "            xgb = GradientBoostingClassifier(random_state=rstate)\n",
        "            xgb.fit(dfX, dfY)\n",
        "            y_pred_xgb = xgb.predict(dfx)\n",
        "        if Classifier==\"LogisticRegression\":\n",
        "            lr = LogisticRegression(random_state=rstate)\n",
        "            lr.fit(dfX, dfY)\n",
        "            y_pred_lr = lr.predict(dfx)\n",
        "        if Classifier== \"DecisionTreeClassifier\":\n",
        "            tree = DecisionTreeClassifier(random_state= rstate)\n",
        "            tree.fit(dfX, dfY)\n",
        "            y_pred_t = tree.predict(dfx)\n",
        "        if Classifier== \"knn\":\n",
        "            knn = KNeighborsClassifier(n_neighbors=6)\n",
        "            knn.fit(dfX, dfY)\n",
        "            y_pred_knn = knn.predict(dfx)\n",
        "        \n",
        "    predictors = [y_pred_rf,  y_pred_svc, y_pred_xgb, y_pred_lr, y_pred_t, y_pred_knn]\n",
        "        \n",
        "    for y, x in zip(predictors, LModels) :\n",
        "      acc = accuracy_score(dfy, y)\n",
        "      wf1 = f1_score(dfy, y, average='weighted')\n",
        "      roc = roc_auc_score(dfy, y)\n",
        "      \n",
        "      print(f\"Accurary for model {x} is = {acc:.3f}\")      \n",
        "      print(f\"roc for model {x} is = {roc:.3f}\")\n",
        "      print(f\"f1_score for model {x} is = {wf1:.3f}\")\n",
        "      print('------------------------------------------')"
      ],
      "metadata": {
        "id": "BWvksu1Zhk4i"
      },
      "execution_count": null,
      "outputs": []
    },
    {
      "cell_type": "code",
      "source": [
        "CheckModels(X_std_r, y_train, X_test_std_r, y_test)"
      ],
      "metadata": {
        "colab": {
          "base_uri": "https://localhost:8080/"
        },
        "id": "i31eWd1OjohT",
        "outputId": "42543c18-e562-44eb-94ce-adb2de3f32a1"
      },
      "execution_count": null,
      "outputs": [
        {
          "output_type": "stream",
          "name": "stdout",
          "text": [
            "Accurary for model RandomForest is = 0.775\n",
            "roc for model RandomForest is = 0.611\n",
            "f1_score for model RandomForest is = 0.743\n",
            "------------------------------------------\n",
            "Accurary for model GBoosting is = 0.775\n",
            "roc for model GBoosting is = 0.589\n",
            "f1_score for model GBoosting is = 0.730\n",
            "------------------------------------------\n",
            "Accurary for model SVC is = 0.775\n",
            "roc for model SVC is = 0.633\n",
            "f1_score for model SVC is = 0.754\n",
            "------------------------------------------\n",
            "Accurary for model LogisticRegression is = 0.754\n",
            "roc for model LogisticRegression is = 0.636\n",
            "f1_score for model LogisticRegression is = 0.744\n",
            "------------------------------------------\n",
            "Accurary for model DecisionTreeClassifier is = 0.713\n",
            "roc for model DecisionTreeClassifier is = 0.614\n",
            "f1_score for model DecisionTreeClassifier is = 0.712\n",
            "------------------------------------------\n",
            "Accurary for model knn is = 0.746\n",
            "roc for model knn is = 0.597\n",
            "f1_score for model knn is = 0.723\n",
            "------------------------------------------\n"
          ]
        }
      ]
    },
    {
      "cell_type": "code",
      "source": [
        "# Hyperparameters for logistic regression\n",
        "solver in [‘newton-cg’, ‘lbfgs’, ‘liblinear’, ‘sag’, ‘saga’]\n",
        "penalty in [‘none’, ‘l1’, ‘l2’, ‘elasticnet’]\n",
        "C in [100, 10, 1.0, 0.1, 0.01]\n",
        "\n",
        "#knn \n",
        "n_neighbors in [1 to 21]\n",
        "metric in [‘euclidean’, ‘manhattan’, ‘minkowski’]\n",
        "weights in [‘uniform’, ‘distance’]\n",
        "\n",
        "#SVM \n",
        "kernels in [‘linear’, ‘poly’, ‘rbf’, ‘sigmoid’]\n",
        "C in [100, 10, 1.0, 0.1, 0.001]\n",
        "\n",
        "# Random Forest\n",
        "max_features [1 to 20]\n",
        "max_features in [‘sqrt’, ‘log2’]\n",
        "n_estimators in [10, 100, 1000]\n"
      ],
      "metadata": {
        "colab": {
          "base_uri": "https://localhost:8080/",
          "height": 135
        },
        "id": "WyfJG3yh4fP7",
        "outputId": "0e792e92-d054-4836-b31a-6334b996a024"
      },
      "execution_count": null,
      "outputs": [
        {
          "output_type": "error",
          "ename": "SyntaxError",
          "evalue": "ignored",
          "traceback": [
            "\u001b[0;36m  File \u001b[0;32m\"<ipython-input-10-ff0a82123bd5>\"\u001b[0;36m, line \u001b[0;32m2\u001b[0m\n\u001b[0;31m    solver in [‘newton-cg’, ‘lbfgs’, ‘liblinear’, ‘sag’, ‘saga’]\u001b[0m\n\u001b[0m                     ^\u001b[0m\n\u001b[0;31mSyntaxError\u001b[0m\u001b[0;31m:\u001b[0m invalid character in identifier\n"
          ]
        }
      ]
    },
    {
      "cell_type": "code",
      "source": [
        "from sklearn.model_selection import GridSearchCV\n",
        "\n",
        "model = {}\n",
        "params = {}\n",
        "pipeline = make_pipeline(RobustScaler(), model) \n",
        "\n",
        "grid = GridSearchCV(estimator= pipeline,\n",
        "                    param_grid= params,\n",
        "                    cv = 10,\n",
        "                    scoring = 'accuracy')\n",
        "grid.fit(x,y)\n",
        "y_pred = grid.predit(y)\n",
        "grid.best_params_"
      ],
      "metadata": {
        "id": "Qo_69zMCAUKD"
      },
      "execution_count": null,
      "outputs": []
    },
    {
      "cell_type": "markdown",
      "source": [
        "# Bagging"
      ],
      "metadata": {
        "id": "TjVep6KgEZ1S"
      }
    },
    {
      "cell_type": "code",
      "source": [
        "from sklearn.ensemble import BaggingClassifier\n",
        "from sklearn.metrics import accuracy_score\n",
        "\n",
        "tree = DecisionTreeClassifier(criterion='entropy',\n",
        "    random_state=1,\n",
        "     max_depth=None)\n",
        "\n",
        "bag = BaggingClassifier(base_estimator=tree,\n",
        "     n_estimators=500,\n",
        "     max_samples=1.0,\n",
        "     max_features=1.0,\n",
        "     bootstrap=True,\n",
        "      bootstrap_features=False,\n",
        "     n_jobs=1,\n",
        "    random_state=1)\n",
        "\n",
        "\n",
        "tree = tree.fit(X_train, y_train)\n",
        "y_train_pred = tree.predict(X_train)\n",
        "y_test_pred = tree.predict(X_test)\n",
        "tree_train = accuracy_score(y_train, y_train_pred)\n",
        "tree_test = accuracy_score(y_test, y_test_pred)\n",
        "print('Decision tree train/test accuracies %.3f/%.3f'% (tree_train, tree_test))"
      ],
      "metadata": {
        "id": "Shg0nFitEdTQ"
      },
      "execution_count": null,
      "outputs": []
    },
    {
      "cell_type": "markdown",
      "source": [
        "# Adda"
      ],
      "metadata": {
        "id": "BP-Aw5t1M-8v"
      }
    },
    {
      "cell_type": "code",
      "source": [
        "from sklearn.ensemble import AdaBoostClassifier\n",
        "\n",
        "tree = DecisionTreeClassifier(criterion='entropy',\n",
        "    random_state=1,\n",
        "     max_depth=1)\n",
        "\n",
        "ada = AdaBoostClassifier(base_estimator=tree,\n",
        "       n_estimators=500,\n",
        "      learning_rate=0.1,\n",
        "       random_state=1)\n",
        "\n",
        "ada = ada.fit(X_train, y_train)\n",
        "y_train_pred = ada.predict(X_train)\n",
        "y_test_pred = ada.predict(X_test)\n",
        "ada_train = accuracy_score(y_train, y_train_pred)\n",
        "ada_test = accuracy_score(y_test, y_test_pred)\n",
        "print('AdaBoost train/test accuracies %.3f/%.3f'% (ada_train, ada_test))"
      ],
      "metadata": {
        "id": "KCfUeb6xNA1D"
      },
      "execution_count": null,
      "outputs": []
    }
  ]
}