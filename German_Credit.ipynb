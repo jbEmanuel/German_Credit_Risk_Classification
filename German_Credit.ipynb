{
  "nbformat": 4,
  "nbformat_minor": 0,
  "metadata": {
    "colab": {
      "name": "German_Credit.ipynb",
      "provenance": [],
      "collapsed_sections": [
        "iUVOLEGx7mC5",
        "HZuuanEYFali",
        "dIXd_R02UW5K",
        "SKNu0KVVlb6f",
        "cpOMrZ7BTvHk",
        "_l3dq-bywxnk",
        "avYNGBxPYBDE",
        "MDXtjKCmxYdK"
      ],
      "authorship_tag": "ABX9TyMI+gZecG6qid7U3pHTHZmN",
      "include_colab_link": true
    },
    "kernelspec": {
      "name": "python3",
      "display_name": "Python 3"
    },
    "language_info": {
      "name": "python"
    }
  },
  "cells": [
    {
      "cell_type": "markdown",
      "metadata": {
        "id": "view-in-github",
        "colab_type": "text"
      },
      "source": [
        "<a href=\"https://colab.research.google.com/github/jbEmanuel/German_Credit_Risk_Classification/blob/main/German_Credit.ipynb\" target=\"_parent\"><img src=\"https://colab.research.google.com/assets/colab-badge.svg\" alt=\"Open In Colab\"/></a>"
      ]
    },
    {
      "cell_type": "markdown",
      "source": [
        "# Data Description"
      ],
      "metadata": {
        "id": "iUVOLEGx7mC5"
      }
    },
    {
      "cell_type": "code",
      "execution_count": 84,
      "metadata": {
        "id": "eCkTd1TQEzZK"
      },
      "outputs": [],
      "source": [
        "import pandas as pd\n",
        "import numpy as np\n",
        "import matplotlib.pyplot as plt\n",
        "import seaborn as sns\n",
        "from scipy import stats\n",
        "from sklearn.model_selection import train_test_split\n",
        "from sklearn.metrics import confusion_matrix\n",
        "from sklearn.preprocessing import RobustScaler\n"
      ]
    },
    {
      "cell_type": "code",
      "source": [
        "description = pd.read_csv('/content/DataDescription.csv')\n",
        "description.head(21)"
      ],
      "metadata": {
        "colab": {
          "base_uri": "https://localhost:8080/",
          "height": 707
        },
        "id": "Xhf8cc-Z7kWa",
        "outputId": "7bf7a115-c133-42ae-dde1-f867fa460241"
      },
      "execution_count": null,
      "outputs": [
        {
          "output_type": "execute_result",
          "data": {
            "text/html": [
              "\n",
              "  <div id=\"df-a3c456bf-1de4-4f6f-afc4-2fa93f8be3b0\">\n",
              "    <div class=\"colab-df-container\">\n",
              "      <div>\n",
              "<style scoped>\n",
              "    .dataframe tbody tr th:only-of-type {\n",
              "        vertical-align: middle;\n",
              "    }\n",
              "\n",
              "    .dataframe tbody tr th {\n",
              "        vertical-align: top;\n",
              "    }\n",
              "\n",
              "    .dataframe thead th {\n",
              "        text-align: right;\n",
              "    }\n",
              "</style>\n",
              "<table border=\"1\" class=\"dataframe\">\n",
              "  <thead>\n",
              "    <tr style=\"text-align: right;\">\n",
              "      <th></th>\n",
              "      <th>Column Name</th>\n",
              "      <th>Variable Name</th>\n",
              "      <th>Content</th>\n",
              "    </tr>\n",
              "  </thead>\n",
              "  <tbody>\n",
              "    <tr>\n",
              "      <th>0</th>\n",
              "      <td>laufkont</td>\n",
              "      <td>status</td>\n",
              "      <td>status of the debtor's checking account with t...</td>\n",
              "    </tr>\n",
              "    <tr>\n",
              "      <th>1</th>\n",
              "      <td>laufzeit</td>\n",
              "      <td>duration</td>\n",
              "      <td>credit duration in months (quantitative)</td>\n",
              "    </tr>\n",
              "    <tr>\n",
              "      <th>2</th>\n",
              "      <td>moral</td>\n",
              "      <td>credit_history</td>\n",
              "      <td>history of compliance with previous or concurr...</td>\n",
              "    </tr>\n",
              "    <tr>\n",
              "      <th>3</th>\n",
              "      <td>verw</td>\n",
              "      <td>purpose</td>\n",
              "      <td>purpose for which the credit is needed (catego...</td>\n",
              "    </tr>\n",
              "    <tr>\n",
              "      <th>4</th>\n",
              "      <td>hoehe</td>\n",
              "      <td>amount</td>\n",
              "      <td>credit amount in DM (quantitative; result of m...</td>\n",
              "    </tr>\n",
              "    <tr>\n",
              "      <th>5</th>\n",
              "      <td>sparkont</td>\n",
              "      <td>savings</td>\n",
              "      <td>debtor's savings (categorical)</td>\n",
              "    </tr>\n",
              "    <tr>\n",
              "      <th>6</th>\n",
              "      <td>beszeit</td>\n",
              "      <td>employment_duration</td>\n",
              "      <td>duration of debtor's employment with current e...</td>\n",
              "    </tr>\n",
              "    <tr>\n",
              "      <th>7</th>\n",
              "      <td>rate</td>\n",
              "      <td>installment_rate</td>\n",
              "      <td>credit installments as a percentage of debtor'...</td>\n",
              "    </tr>\n",
              "    <tr>\n",
              "      <th>8</th>\n",
              "      <td>famges</td>\n",
              "      <td>personal_status_sex</td>\n",
              "      <td>combined information on sex and marital status...</td>\n",
              "    </tr>\n",
              "    <tr>\n",
              "      <th>9</th>\n",
              "      <td>buerge</td>\n",
              "      <td>other_debtors</td>\n",
              "      <td>Is there another debtor or a guarantor for the...</td>\n",
              "    </tr>\n",
              "    <tr>\n",
              "      <th>10</th>\n",
              "      <td>wohnzeit</td>\n",
              "      <td>present_residence</td>\n",
              "      <td>length of time (in years) the debtor lives in ...</td>\n",
              "    </tr>\n",
              "    <tr>\n",
              "      <th>11</th>\n",
              "      <td>verm</td>\n",
              "      <td>property</td>\n",
              "      <td>the debtor's most valuable property, i.e. the ...</td>\n",
              "    </tr>\n",
              "    <tr>\n",
              "      <th>12</th>\n",
              "      <td>alter</td>\n",
              "      <td>age</td>\n",
              "      <td>age in years (quantitative)</td>\n",
              "    </tr>\n",
              "    <tr>\n",
              "      <th>13</th>\n",
              "      <td>weitkred</td>\n",
              "      <td>other_installment_plans</td>\n",
              "      <td>installment plans from providers other than th...</td>\n",
              "    </tr>\n",
              "    <tr>\n",
              "      <th>14</th>\n",
              "      <td>wohn</td>\n",
              "      <td>housing</td>\n",
              "      <td>type of housing the debtor lives in (categorical)</td>\n",
              "    </tr>\n",
              "    <tr>\n",
              "      <th>15</th>\n",
              "      <td>bishkred</td>\n",
              "      <td>number_credits</td>\n",
              "      <td>number of credits including the current one th...</td>\n",
              "    </tr>\n",
              "    <tr>\n",
              "      <th>16</th>\n",
              "      <td>beruf</td>\n",
              "      <td>job</td>\n",
              "      <td>quality of debtor's job (ordinal)</td>\n",
              "    </tr>\n",
              "    <tr>\n",
              "      <th>17</th>\n",
              "      <td>pers</td>\n",
              "      <td>people_liable</td>\n",
              "      <td>number of persons who financially depend on th...</td>\n",
              "    </tr>\n",
              "    <tr>\n",
              "      <th>18</th>\n",
              "      <td>telef</td>\n",
              "      <td>telephone</td>\n",
              "      <td>Is there a telephone landline registered on th...</td>\n",
              "    </tr>\n",
              "    <tr>\n",
              "      <th>19</th>\n",
              "      <td>gastarb</td>\n",
              "      <td>foreign_worker</td>\n",
              "      <td>Is the debtor a foreign worker? (binary)</td>\n",
              "    </tr>\n",
              "    <tr>\n",
              "      <th>20</th>\n",
              "      <td>kredit</td>\n",
              "      <td>credit_risk</td>\n",
              "      <td>Has the credit contract been complied with (go...</td>\n",
              "    </tr>\n",
              "  </tbody>\n",
              "</table>\n",
              "</div>\n",
              "      <button class=\"colab-df-convert\" onclick=\"convertToInteractive('df-a3c456bf-1de4-4f6f-afc4-2fa93f8be3b0')\"\n",
              "              title=\"Convert this dataframe to an interactive table.\"\n",
              "              style=\"display:none;\">\n",
              "        \n",
              "  <svg xmlns=\"http://www.w3.org/2000/svg\" height=\"24px\"viewBox=\"0 0 24 24\"\n",
              "       width=\"24px\">\n",
              "    <path d=\"M0 0h24v24H0V0z\" fill=\"none\"/>\n",
              "    <path d=\"M18.56 5.44l.94 2.06.94-2.06 2.06-.94-2.06-.94-.94-2.06-.94 2.06-2.06.94zm-11 1L8.5 8.5l.94-2.06 2.06-.94-2.06-.94L8.5 2.5l-.94 2.06-2.06.94zm10 10l.94 2.06.94-2.06 2.06-.94-2.06-.94-.94-2.06-.94 2.06-2.06.94z\"/><path d=\"M17.41 7.96l-1.37-1.37c-.4-.4-.92-.59-1.43-.59-.52 0-1.04.2-1.43.59L10.3 9.45l-7.72 7.72c-.78.78-.78 2.05 0 2.83L4 21.41c.39.39.9.59 1.41.59.51 0 1.02-.2 1.41-.59l7.78-7.78 2.81-2.81c.8-.78.8-2.07 0-2.86zM5.41 20L4 18.59l7.72-7.72 1.47 1.35L5.41 20z\"/>\n",
              "  </svg>\n",
              "      </button>\n",
              "      \n",
              "  <style>\n",
              "    .colab-df-container {\n",
              "      display:flex;\n",
              "      flex-wrap:wrap;\n",
              "      gap: 12px;\n",
              "    }\n",
              "\n",
              "    .colab-df-convert {\n",
              "      background-color: #E8F0FE;\n",
              "      border: none;\n",
              "      border-radius: 50%;\n",
              "      cursor: pointer;\n",
              "      display: none;\n",
              "      fill: #1967D2;\n",
              "      height: 32px;\n",
              "      padding: 0 0 0 0;\n",
              "      width: 32px;\n",
              "    }\n",
              "\n",
              "    .colab-df-convert:hover {\n",
              "      background-color: #E2EBFA;\n",
              "      box-shadow: 0px 1px 2px rgba(60, 64, 67, 0.3), 0px 1px 3px 1px rgba(60, 64, 67, 0.15);\n",
              "      fill: #174EA6;\n",
              "    }\n",
              "\n",
              "    [theme=dark] .colab-df-convert {\n",
              "      background-color: #3B4455;\n",
              "      fill: #D2E3FC;\n",
              "    }\n",
              "\n",
              "    [theme=dark] .colab-df-convert:hover {\n",
              "      background-color: #434B5C;\n",
              "      box-shadow: 0px 1px 3px 1px rgba(0, 0, 0, 0.15);\n",
              "      filter: drop-shadow(0px 1px 2px rgba(0, 0, 0, 0.3));\n",
              "      fill: #FFFFFF;\n",
              "    }\n",
              "  </style>\n",
              "\n",
              "      <script>\n",
              "        const buttonEl =\n",
              "          document.querySelector('#df-a3c456bf-1de4-4f6f-afc4-2fa93f8be3b0 button.colab-df-convert');\n",
              "        buttonEl.style.display =\n",
              "          google.colab.kernel.accessAllowed ? 'block' : 'none';\n",
              "\n",
              "        async function convertToInteractive(key) {\n",
              "          const element = document.querySelector('#df-a3c456bf-1de4-4f6f-afc4-2fa93f8be3b0');\n",
              "          const dataTable =\n",
              "            await google.colab.kernel.invokeFunction('convertToInteractive',\n",
              "                                                     [key], {});\n",
              "          if (!dataTable) return;\n",
              "\n",
              "          const docLinkHtml = 'Like what you see? Visit the ' +\n",
              "            '<a target=\"_blank\" href=https://colab.research.google.com/notebooks/data_table.ipynb>data table notebook</a>'\n",
              "            + ' to learn more about interactive tables.';\n",
              "          element.innerHTML = '';\n",
              "          dataTable['output_type'] = 'display_data';\n",
              "          await google.colab.output.renderOutput(dataTable, element);\n",
              "          const docLink = document.createElement('div');\n",
              "          docLink.innerHTML = docLinkHtml;\n",
              "          element.appendChild(docLink);\n",
              "        }\n",
              "      </script>\n",
              "    </div>\n",
              "  </div>\n",
              "  "
            ],
            "text/plain": [
              "   Column Name  ...                                            Content\n",
              "0     laufkont  ...  status of the debtor's checking account with t...\n",
              "1     laufzeit  ...           credit duration in months (quantitative)\n",
              "2        moral  ...  history of compliance with previous or concurr...\n",
              "3         verw  ...  purpose for which the credit is needed (catego...\n",
              "4        hoehe  ...  credit amount in DM (quantitative; result of m...\n",
              "5     sparkont  ...                     debtor's savings (categorical)\n",
              "6      beszeit  ...  duration of debtor's employment with current e...\n",
              "7         rate  ...  credit installments as a percentage of debtor'...\n",
              "8       famges  ...  combined information on sex and marital status...\n",
              "9       buerge  ...  Is there another debtor or a guarantor for the...\n",
              "10    wohnzeit  ...  length of time (in years) the debtor lives in ...\n",
              "11        verm  ...  the debtor's most valuable property, i.e. the ...\n",
              "12       alter  ...                        age in years (quantitative)\n",
              "13    weitkred  ...  installment plans from providers other than th...\n",
              "14        wohn  ...  type of housing the debtor lives in (categorical)\n",
              "15    bishkred  ...  number of credits including the current one th...\n",
              "16       beruf  ...                  quality of debtor's job (ordinal)\n",
              "17        pers  ...  number of persons who financially depend on th...\n",
              "18       telef  ...  Is there a telephone landline registered on th...\n",
              "19     gastarb  ...           Is the debtor a foreign worker? (binary)\n",
              "20      kredit  ...  Has the credit contract been complied with (go...\n",
              "\n",
              "[21 rows x 3 columns]"
            ]
          },
          "metadata": {},
          "execution_count": 158
        }
      ]
    },
    {
      "cell_type": "markdown",
      "source": [
        "# 1. Gathering the Dataset"
      ],
      "metadata": {
        "id": "XTBbUih-khv-"
      }
    },
    {
      "cell_type": "code",
      "source": [
        "colunas = ['id', 'status', 'duration', 'credit_history', 'purpose', 'amount', 'savings', 'employment_duration', 'installment_rate', 'personal_status_sex', 'other_debtors', 'present_residence', 'property', 'age', 'other_installment_plans', 'housing', 'number_credits', 'job', 'people_liable', 'telephone', 'foreign_worker', 'credit_risk']"
      ],
      "metadata": {
        "id": "ZT1i-0fWJ9jC"
      },
      "execution_count": 2,
      "outputs": []
    },
    {
      "cell_type": "code",
      "source": [
        "data = pd.read_csv('/content/train.csv')\n",
        "data.columns = colunas\n",
        "data.head()"
      ],
      "metadata": {
        "colab": {
          "base_uri": "https://localhost:8080/",
          "height": 270
        },
        "id": "91FRbyGtE4Gl",
        "outputId": "61789182-d0a8-4a26-cc76-d3a2a09225be"
      },
      "execution_count": 3,
      "outputs": [
        {
          "output_type": "execute_result",
          "data": {
            "text/html": [
              "\n",
              "  <div id=\"df-8fa3cf10-e65f-45db-80a6-4212f5386d43\">\n",
              "    <div class=\"colab-df-container\">\n",
              "      <div>\n",
              "<style scoped>\n",
              "    .dataframe tbody tr th:only-of-type {\n",
              "        vertical-align: middle;\n",
              "    }\n",
              "\n",
              "    .dataframe tbody tr th {\n",
              "        vertical-align: top;\n",
              "    }\n",
              "\n",
              "    .dataframe thead th {\n",
              "        text-align: right;\n",
              "    }\n",
              "</style>\n",
              "<table border=\"1\" class=\"dataframe\">\n",
              "  <thead>\n",
              "    <tr style=\"text-align: right;\">\n",
              "      <th></th>\n",
              "      <th>id</th>\n",
              "      <th>status</th>\n",
              "      <th>duration</th>\n",
              "      <th>credit_history</th>\n",
              "      <th>purpose</th>\n",
              "      <th>amount</th>\n",
              "      <th>savings</th>\n",
              "      <th>employment_duration</th>\n",
              "      <th>installment_rate</th>\n",
              "      <th>personal_status_sex</th>\n",
              "      <th>other_debtors</th>\n",
              "      <th>present_residence</th>\n",
              "      <th>property</th>\n",
              "      <th>age</th>\n",
              "      <th>other_installment_plans</th>\n",
              "      <th>housing</th>\n",
              "      <th>number_credits</th>\n",
              "      <th>job</th>\n",
              "      <th>people_liable</th>\n",
              "      <th>telephone</th>\n",
              "      <th>foreign_worker</th>\n",
              "      <th>credit_risk</th>\n",
              "    </tr>\n",
              "  </thead>\n",
              "  <tbody>\n",
              "    <tr>\n",
              "      <th>0</th>\n",
              "      <td>0</td>\n",
              "      <td>1</td>\n",
              "      <td>18</td>\n",
              "      <td>4</td>\n",
              "      <td>2</td>\n",
              "      <td>1049</td>\n",
              "      <td>1</td>\n",
              "      <td>2</td>\n",
              "      <td>4</td>\n",
              "      <td>2</td>\n",
              "      <td>1</td>\n",
              "      <td>4</td>\n",
              "      <td>2</td>\n",
              "      <td>21</td>\n",
              "      <td>3</td>\n",
              "      <td>1</td>\n",
              "      <td>1</td>\n",
              "      <td>3</td>\n",
              "      <td>2</td>\n",
              "      <td>1</td>\n",
              "      <td>2</td>\n",
              "      <td>1</td>\n",
              "    </tr>\n",
              "    <tr>\n",
              "      <th>1</th>\n",
              "      <td>1</td>\n",
              "      <td>1</td>\n",
              "      <td>9</td>\n",
              "      <td>4</td>\n",
              "      <td>0</td>\n",
              "      <td>2799</td>\n",
              "      <td>1</td>\n",
              "      <td>3</td>\n",
              "      <td>2</td>\n",
              "      <td>3</td>\n",
              "      <td>1</td>\n",
              "      <td>2</td>\n",
              "      <td>1</td>\n",
              "      <td>36</td>\n",
              "      <td>3</td>\n",
              "      <td>1</td>\n",
              "      <td>2</td>\n",
              "      <td>3</td>\n",
              "      <td>1</td>\n",
              "      <td>1</td>\n",
              "      <td>2</td>\n",
              "      <td>1</td>\n",
              "    </tr>\n",
              "    <tr>\n",
              "      <th>2</th>\n",
              "      <td>2</td>\n",
              "      <td>2</td>\n",
              "      <td>12</td>\n",
              "      <td>2</td>\n",
              "      <td>9</td>\n",
              "      <td>841</td>\n",
              "      <td>2</td>\n",
              "      <td>4</td>\n",
              "      <td>2</td>\n",
              "      <td>2</td>\n",
              "      <td>1</td>\n",
              "      <td>4</td>\n",
              "      <td>1</td>\n",
              "      <td>23</td>\n",
              "      <td>3</td>\n",
              "      <td>1</td>\n",
              "      <td>1</td>\n",
              "      <td>2</td>\n",
              "      <td>2</td>\n",
              "      <td>1</td>\n",
              "      <td>2</td>\n",
              "      <td>1</td>\n",
              "    </tr>\n",
              "    <tr>\n",
              "      <th>3</th>\n",
              "      <td>3</td>\n",
              "      <td>1</td>\n",
              "      <td>12</td>\n",
              "      <td>4</td>\n",
              "      <td>0</td>\n",
              "      <td>2122</td>\n",
              "      <td>1</td>\n",
              "      <td>3</td>\n",
              "      <td>3</td>\n",
              "      <td>3</td>\n",
              "      <td>1</td>\n",
              "      <td>2</td>\n",
              "      <td>1</td>\n",
              "      <td>39</td>\n",
              "      <td>3</td>\n",
              "      <td>1</td>\n",
              "      <td>2</td>\n",
              "      <td>2</td>\n",
              "      <td>1</td>\n",
              "      <td>1</td>\n",
              "      <td>1</td>\n",
              "      <td>1</td>\n",
              "    </tr>\n",
              "    <tr>\n",
              "      <th>4</th>\n",
              "      <td>5</td>\n",
              "      <td>1</td>\n",
              "      <td>10</td>\n",
              "      <td>4</td>\n",
              "      <td>0</td>\n",
              "      <td>2241</td>\n",
              "      <td>1</td>\n",
              "      <td>2</td>\n",
              "      <td>1</td>\n",
              "      <td>3</td>\n",
              "      <td>1</td>\n",
              "      <td>3</td>\n",
              "      <td>1</td>\n",
              "      <td>48</td>\n",
              "      <td>3</td>\n",
              "      <td>1</td>\n",
              "      <td>2</td>\n",
              "      <td>2</td>\n",
              "      <td>1</td>\n",
              "      <td>1</td>\n",
              "      <td>1</td>\n",
              "      <td>1</td>\n",
              "    </tr>\n",
              "  </tbody>\n",
              "</table>\n",
              "</div>\n",
              "      <button class=\"colab-df-convert\" onclick=\"convertToInteractive('df-8fa3cf10-e65f-45db-80a6-4212f5386d43')\"\n",
              "              title=\"Convert this dataframe to an interactive table.\"\n",
              "              style=\"display:none;\">\n",
              "        \n",
              "  <svg xmlns=\"http://www.w3.org/2000/svg\" height=\"24px\"viewBox=\"0 0 24 24\"\n",
              "       width=\"24px\">\n",
              "    <path d=\"M0 0h24v24H0V0z\" fill=\"none\"/>\n",
              "    <path d=\"M18.56 5.44l.94 2.06.94-2.06 2.06-.94-2.06-.94-.94-2.06-.94 2.06-2.06.94zm-11 1L8.5 8.5l.94-2.06 2.06-.94-2.06-.94L8.5 2.5l-.94 2.06-2.06.94zm10 10l.94 2.06.94-2.06 2.06-.94-2.06-.94-.94-2.06-.94 2.06-2.06.94z\"/><path d=\"M17.41 7.96l-1.37-1.37c-.4-.4-.92-.59-1.43-.59-.52 0-1.04.2-1.43.59L10.3 9.45l-7.72 7.72c-.78.78-.78 2.05 0 2.83L4 21.41c.39.39.9.59 1.41.59.51 0 1.02-.2 1.41-.59l7.78-7.78 2.81-2.81c.8-.78.8-2.07 0-2.86zM5.41 20L4 18.59l7.72-7.72 1.47 1.35L5.41 20z\"/>\n",
              "  </svg>\n",
              "      </button>\n",
              "      \n",
              "  <style>\n",
              "    .colab-df-container {\n",
              "      display:flex;\n",
              "      flex-wrap:wrap;\n",
              "      gap: 12px;\n",
              "    }\n",
              "\n",
              "    .colab-df-convert {\n",
              "      background-color: #E8F0FE;\n",
              "      border: none;\n",
              "      border-radius: 50%;\n",
              "      cursor: pointer;\n",
              "      display: none;\n",
              "      fill: #1967D2;\n",
              "      height: 32px;\n",
              "      padding: 0 0 0 0;\n",
              "      width: 32px;\n",
              "    }\n",
              "\n",
              "    .colab-df-convert:hover {\n",
              "      background-color: #E2EBFA;\n",
              "      box-shadow: 0px 1px 2px rgba(60, 64, 67, 0.3), 0px 1px 3px 1px rgba(60, 64, 67, 0.15);\n",
              "      fill: #174EA6;\n",
              "    }\n",
              "\n",
              "    [theme=dark] .colab-df-convert {\n",
              "      background-color: #3B4455;\n",
              "      fill: #D2E3FC;\n",
              "    }\n",
              "\n",
              "    [theme=dark] .colab-df-convert:hover {\n",
              "      background-color: #434B5C;\n",
              "      box-shadow: 0px 1px 3px 1px rgba(0, 0, 0, 0.15);\n",
              "      filter: drop-shadow(0px 1px 2px rgba(0, 0, 0, 0.3));\n",
              "      fill: #FFFFFF;\n",
              "    }\n",
              "  </style>\n",
              "\n",
              "      <script>\n",
              "        const buttonEl =\n",
              "          document.querySelector('#df-8fa3cf10-e65f-45db-80a6-4212f5386d43 button.colab-df-convert');\n",
              "        buttonEl.style.display =\n",
              "          google.colab.kernel.accessAllowed ? 'block' : 'none';\n",
              "\n",
              "        async function convertToInteractive(key) {\n",
              "          const element = document.querySelector('#df-8fa3cf10-e65f-45db-80a6-4212f5386d43');\n",
              "          const dataTable =\n",
              "            await google.colab.kernel.invokeFunction('convertToInteractive',\n",
              "                                                     [key], {});\n",
              "          if (!dataTable) return;\n",
              "\n",
              "          const docLinkHtml = 'Like what you see? Visit the ' +\n",
              "            '<a target=\"_blank\" href=https://colab.research.google.com/notebooks/data_table.ipynb>data table notebook</a>'\n",
              "            + ' to learn more about interactive tables.';\n",
              "          element.innerHTML = '';\n",
              "          dataTable['output_type'] = 'display_data';\n",
              "          await google.colab.output.renderOutput(dataTable, element);\n",
              "          const docLink = document.createElement('div');\n",
              "          docLink.innerHTML = docLinkHtml;\n",
              "          element.appendChild(docLink);\n",
              "        }\n",
              "      </script>\n",
              "    </div>\n",
              "  </div>\n",
              "  "
            ],
            "text/plain": [
              "   id  status  duration  ...  telephone  foreign_worker  credit_risk\n",
              "0   0       1        18  ...          1               2            1\n",
              "1   1       1         9  ...          1               2            1\n",
              "2   2       2        12  ...          1               2            1\n",
              "3   3       1        12  ...          1               1            1\n",
              "4   5       1        10  ...          1               1            1\n",
              "\n",
              "[5 rows x 22 columns]"
            ]
          },
          "metadata": {},
          "execution_count": 3
        }
      ]
    },
    {
      "cell_type": "markdown",
      "source": [
        "# 1 Exploratory Data Analysis"
      ],
      "metadata": {
        "id": "gWrzEjkNNqb_"
      }
    },
    {
      "cell_type": "code",
      "source": [
        "df = data.copy()\n",
        "df.drop([\"id\"], axis = 1, inplace = True)"
      ],
      "metadata": {
        "id": "vZVT7nsQMgx6"
      },
      "execution_count": 4,
      "outputs": []
    },
    {
      "cell_type": "code",
      "source": [
        "df.info()"
      ],
      "metadata": {
        "colab": {
          "base_uri": "https://localhost:8080/"
        },
        "id": "ep9Ew03_Dgf4",
        "outputId": "4e5c36d8-3d88-42ab-bfee-90cdc04308c7"
      },
      "execution_count": 5,
      "outputs": [
        {
          "output_type": "stream",
          "name": "stdout",
          "text": [
            "<class 'pandas.core.frame.DataFrame'>\n",
            "RangeIndex: 800 entries, 0 to 799\n",
            "Data columns (total 21 columns):\n",
            " #   Column                   Non-Null Count  Dtype\n",
            "---  ------                   --------------  -----\n",
            " 0   status                   800 non-null    int64\n",
            " 1   duration                 800 non-null    int64\n",
            " 2   credit_history           800 non-null    int64\n",
            " 3   purpose                  800 non-null    int64\n",
            " 4   amount                   800 non-null    int64\n",
            " 5   savings                  800 non-null    int64\n",
            " 6   employment_duration      800 non-null    int64\n",
            " 7   installment_rate         800 non-null    int64\n",
            " 8   personal_status_sex      800 non-null    int64\n",
            " 9   other_debtors            800 non-null    int64\n",
            " 10  present_residence        800 non-null    int64\n",
            " 11  property                 800 non-null    int64\n",
            " 12  age                      800 non-null    int64\n",
            " 13  other_installment_plans  800 non-null    int64\n",
            " 14  housing                  800 non-null    int64\n",
            " 15  number_credits           800 non-null    int64\n",
            " 16  job                      800 non-null    int64\n",
            " 17  people_liable            800 non-null    int64\n",
            " 18  telephone                800 non-null    int64\n",
            " 19  foreign_worker           800 non-null    int64\n",
            " 20  credit_risk              800 non-null    int64\n",
            "dtypes: int64(21)\n",
            "memory usage: 131.4 KB\n"
          ]
        }
      ]
    },
    {
      "cell_type": "code",
      "source": [
        "df.describe().T"
      ],
      "metadata": {
        "colab": {
          "base_uri": "https://localhost:8080/",
          "height": 707
        },
        "id": "n5EI0w87OEX3",
        "outputId": "13a327ed-2313-49c9-facd-892d68a01dbd"
      },
      "execution_count": 6,
      "outputs": [
        {
          "output_type": "execute_result",
          "data": {
            "text/html": [
              "\n",
              "  <div id=\"df-fc74735a-5634-4901-9a53-fef12fc86f84\">\n",
              "    <div class=\"colab-df-container\">\n",
              "      <div>\n",
              "<style scoped>\n",
              "    .dataframe tbody tr th:only-of-type {\n",
              "        vertical-align: middle;\n",
              "    }\n",
              "\n",
              "    .dataframe tbody tr th {\n",
              "        vertical-align: top;\n",
              "    }\n",
              "\n",
              "    .dataframe thead th {\n",
              "        text-align: right;\n",
              "    }\n",
              "</style>\n",
              "<table border=\"1\" class=\"dataframe\">\n",
              "  <thead>\n",
              "    <tr style=\"text-align: right;\">\n",
              "      <th></th>\n",
              "      <th>count</th>\n",
              "      <th>mean</th>\n",
              "      <th>std</th>\n",
              "      <th>min</th>\n",
              "      <th>25%</th>\n",
              "      <th>50%</th>\n",
              "      <th>75%</th>\n",
              "      <th>max</th>\n",
              "    </tr>\n",
              "  </thead>\n",
              "  <tbody>\n",
              "    <tr>\n",
              "      <th>status</th>\n",
              "      <td>800.0</td>\n",
              "      <td>2.64875</td>\n",
              "      <td>1.250931</td>\n",
              "      <td>1.0</td>\n",
              "      <td>1.75</td>\n",
              "      <td>2.0</td>\n",
              "      <td>4.00</td>\n",
              "      <td>4.0</td>\n",
              "    </tr>\n",
              "    <tr>\n",
              "      <th>duration</th>\n",
              "      <td>800.0</td>\n",
              "      <td>20.49625</td>\n",
              "      <td>12.006881</td>\n",
              "      <td>4.0</td>\n",
              "      <td>12.00</td>\n",
              "      <td>18.0</td>\n",
              "      <td>24.00</td>\n",
              "      <td>72.0</td>\n",
              "    </tr>\n",
              "    <tr>\n",
              "      <th>credit_history</th>\n",
              "      <td>800.0</td>\n",
              "      <td>2.58250</td>\n",
              "      <td>1.099866</td>\n",
              "      <td>0.0</td>\n",
              "      <td>2.00</td>\n",
              "      <td>2.0</td>\n",
              "      <td>4.00</td>\n",
              "      <td>4.0</td>\n",
              "    </tr>\n",
              "    <tr>\n",
              "      <th>purpose</th>\n",
              "      <td>800.0</td>\n",
              "      <td>2.78500</td>\n",
              "      <td>2.680533</td>\n",
              "      <td>0.0</td>\n",
              "      <td>1.00</td>\n",
              "      <td>2.0</td>\n",
              "      <td>3.00</td>\n",
              "      <td>10.0</td>\n",
              "    </tr>\n",
              "    <tr>\n",
              "      <th>amount</th>\n",
              "      <td>800.0</td>\n",
              "      <td>3210.29000</td>\n",
              "      <td>2792.840814</td>\n",
              "      <td>250.0</td>\n",
              "      <td>1364.00</td>\n",
              "      <td>2264.0</td>\n",
              "      <td>3907.25</td>\n",
              "      <td>18424.0</td>\n",
              "    </tr>\n",
              "    <tr>\n",
              "      <th>savings</th>\n",
              "      <td>800.0</td>\n",
              "      <td>2.14375</td>\n",
              "      <td>1.589416</td>\n",
              "      <td>1.0</td>\n",
              "      <td>1.00</td>\n",
              "      <td>1.0</td>\n",
              "      <td>3.00</td>\n",
              "      <td>5.0</td>\n",
              "    </tr>\n",
              "    <tr>\n",
              "      <th>employment_duration</th>\n",
              "      <td>800.0</td>\n",
              "      <td>3.39500</td>\n",
              "      <td>1.224070</td>\n",
              "      <td>1.0</td>\n",
              "      <td>3.00</td>\n",
              "      <td>3.0</td>\n",
              "      <td>5.00</td>\n",
              "      <td>5.0</td>\n",
              "    </tr>\n",
              "    <tr>\n",
              "      <th>installment_rate</th>\n",
              "      <td>800.0</td>\n",
              "      <td>2.95250</td>\n",
              "      <td>1.134395</td>\n",
              "      <td>1.0</td>\n",
              "      <td>2.00</td>\n",
              "      <td>3.0</td>\n",
              "      <td>4.00</td>\n",
              "      <td>4.0</td>\n",
              "    </tr>\n",
              "    <tr>\n",
              "      <th>personal_status_sex</th>\n",
              "      <td>800.0</td>\n",
              "      <td>2.68750</td>\n",
              "      <td>0.696743</td>\n",
              "      <td>1.0</td>\n",
              "      <td>2.00</td>\n",
              "      <td>3.0</td>\n",
              "      <td>3.00</td>\n",
              "      <td>4.0</td>\n",
              "    </tr>\n",
              "    <tr>\n",
              "      <th>other_debtors</th>\n",
              "      <td>800.0</td>\n",
              "      <td>1.14375</td>\n",
              "      <td>0.472615</td>\n",
              "      <td>1.0</td>\n",
              "      <td>1.00</td>\n",
              "      <td>1.0</td>\n",
              "      <td>1.00</td>\n",
              "      <td>3.0</td>\n",
              "    </tr>\n",
              "    <tr>\n",
              "      <th>present_residence</th>\n",
              "      <td>800.0</td>\n",
              "      <td>2.82500</td>\n",
              "      <td>1.100404</td>\n",
              "      <td>1.0</td>\n",
              "      <td>2.00</td>\n",
              "      <td>3.0</td>\n",
              "      <td>4.00</td>\n",
              "      <td>4.0</td>\n",
              "    </tr>\n",
              "    <tr>\n",
              "      <th>property</th>\n",
              "      <td>800.0</td>\n",
              "      <td>2.35375</td>\n",
              "      <td>1.057122</td>\n",
              "      <td>1.0</td>\n",
              "      <td>1.00</td>\n",
              "      <td>2.0</td>\n",
              "      <td>3.00</td>\n",
              "      <td>4.0</td>\n",
              "    </tr>\n",
              "    <tr>\n",
              "      <th>age</th>\n",
              "      <td>800.0</td>\n",
              "      <td>35.54250</td>\n",
              "      <td>11.175724</td>\n",
              "      <td>19.0</td>\n",
              "      <td>27.00</td>\n",
              "      <td>33.0</td>\n",
              "      <td>42.00</td>\n",
              "      <td>75.0</td>\n",
              "    </tr>\n",
              "    <tr>\n",
              "      <th>other_installment_plans</th>\n",
              "      <td>800.0</td>\n",
              "      <td>2.67375</td>\n",
              "      <td>0.709182</td>\n",
              "      <td>1.0</td>\n",
              "      <td>3.00</td>\n",
              "      <td>3.0</td>\n",
              "      <td>3.00</td>\n",
              "      <td>3.0</td>\n",
              "    </tr>\n",
              "    <tr>\n",
              "      <th>housing</th>\n",
              "      <td>800.0</td>\n",
              "      <td>1.94125</td>\n",
              "      <td>0.527396</td>\n",
              "      <td>1.0</td>\n",
              "      <td>2.00</td>\n",
              "      <td>2.0</td>\n",
              "      <td>2.00</td>\n",
              "      <td>3.0</td>\n",
              "    </tr>\n",
              "    <tr>\n",
              "      <th>number_credits</th>\n",
              "      <td>800.0</td>\n",
              "      <td>1.42000</td>\n",
              "      <td>0.586541</td>\n",
              "      <td>1.0</td>\n",
              "      <td>1.00</td>\n",
              "      <td>1.0</td>\n",
              "      <td>2.00</td>\n",
              "      <td>4.0</td>\n",
              "    </tr>\n",
              "    <tr>\n",
              "      <th>job</th>\n",
              "      <td>800.0</td>\n",
              "      <td>2.90125</td>\n",
              "      <td>0.661094</td>\n",
              "      <td>1.0</td>\n",
              "      <td>3.00</td>\n",
              "      <td>3.0</td>\n",
              "      <td>3.00</td>\n",
              "      <td>4.0</td>\n",
              "    </tr>\n",
              "    <tr>\n",
              "      <th>people_liable</th>\n",
              "      <td>800.0</td>\n",
              "      <td>1.84500</td>\n",
              "      <td>0.362131</td>\n",
              "      <td>1.0</td>\n",
              "      <td>2.00</td>\n",
              "      <td>2.0</td>\n",
              "      <td>2.00</td>\n",
              "      <td>2.0</td>\n",
              "    </tr>\n",
              "    <tr>\n",
              "      <th>telephone</th>\n",
              "      <td>800.0</td>\n",
              "      <td>1.39875</td>\n",
              "      <td>0.489947</td>\n",
              "      <td>1.0</td>\n",
              "      <td>1.00</td>\n",
              "      <td>1.0</td>\n",
              "      <td>2.00</td>\n",
              "      <td>2.0</td>\n",
              "    </tr>\n",
              "    <tr>\n",
              "      <th>foreign_worker</th>\n",
              "      <td>800.0</td>\n",
              "      <td>1.95750</td>\n",
              "      <td>0.201853</td>\n",
              "      <td>1.0</td>\n",
              "      <td>2.00</td>\n",
              "      <td>2.0</td>\n",
              "      <td>2.00</td>\n",
              "      <td>2.0</td>\n",
              "    </tr>\n",
              "    <tr>\n",
              "      <th>credit_risk</th>\n",
              "      <td>800.0</td>\n",
              "      <td>0.75000</td>\n",
              "      <td>0.433284</td>\n",
              "      <td>0.0</td>\n",
              "      <td>0.75</td>\n",
              "      <td>1.0</td>\n",
              "      <td>1.00</td>\n",
              "      <td>1.0</td>\n",
              "    </tr>\n",
              "  </tbody>\n",
              "</table>\n",
              "</div>\n",
              "      <button class=\"colab-df-convert\" onclick=\"convertToInteractive('df-fc74735a-5634-4901-9a53-fef12fc86f84')\"\n",
              "              title=\"Convert this dataframe to an interactive table.\"\n",
              "              style=\"display:none;\">\n",
              "        \n",
              "  <svg xmlns=\"http://www.w3.org/2000/svg\" height=\"24px\"viewBox=\"0 0 24 24\"\n",
              "       width=\"24px\">\n",
              "    <path d=\"M0 0h24v24H0V0z\" fill=\"none\"/>\n",
              "    <path d=\"M18.56 5.44l.94 2.06.94-2.06 2.06-.94-2.06-.94-.94-2.06-.94 2.06-2.06.94zm-11 1L8.5 8.5l.94-2.06 2.06-.94-2.06-.94L8.5 2.5l-.94 2.06-2.06.94zm10 10l.94 2.06.94-2.06 2.06-.94-2.06-.94-.94-2.06-.94 2.06-2.06.94z\"/><path d=\"M17.41 7.96l-1.37-1.37c-.4-.4-.92-.59-1.43-.59-.52 0-1.04.2-1.43.59L10.3 9.45l-7.72 7.72c-.78.78-.78 2.05 0 2.83L4 21.41c.39.39.9.59 1.41.59.51 0 1.02-.2 1.41-.59l7.78-7.78 2.81-2.81c.8-.78.8-2.07 0-2.86zM5.41 20L4 18.59l7.72-7.72 1.47 1.35L5.41 20z\"/>\n",
              "  </svg>\n",
              "      </button>\n",
              "      \n",
              "  <style>\n",
              "    .colab-df-container {\n",
              "      display:flex;\n",
              "      flex-wrap:wrap;\n",
              "      gap: 12px;\n",
              "    }\n",
              "\n",
              "    .colab-df-convert {\n",
              "      background-color: #E8F0FE;\n",
              "      border: none;\n",
              "      border-radius: 50%;\n",
              "      cursor: pointer;\n",
              "      display: none;\n",
              "      fill: #1967D2;\n",
              "      height: 32px;\n",
              "      padding: 0 0 0 0;\n",
              "      width: 32px;\n",
              "    }\n",
              "\n",
              "    .colab-df-convert:hover {\n",
              "      background-color: #E2EBFA;\n",
              "      box-shadow: 0px 1px 2px rgba(60, 64, 67, 0.3), 0px 1px 3px 1px rgba(60, 64, 67, 0.15);\n",
              "      fill: #174EA6;\n",
              "    }\n",
              "\n",
              "    [theme=dark] .colab-df-convert {\n",
              "      background-color: #3B4455;\n",
              "      fill: #D2E3FC;\n",
              "    }\n",
              "\n",
              "    [theme=dark] .colab-df-convert:hover {\n",
              "      background-color: #434B5C;\n",
              "      box-shadow: 0px 1px 3px 1px rgba(0, 0, 0, 0.15);\n",
              "      filter: drop-shadow(0px 1px 2px rgba(0, 0, 0, 0.3));\n",
              "      fill: #FFFFFF;\n",
              "    }\n",
              "  </style>\n",
              "\n",
              "      <script>\n",
              "        const buttonEl =\n",
              "          document.querySelector('#df-fc74735a-5634-4901-9a53-fef12fc86f84 button.colab-df-convert');\n",
              "        buttonEl.style.display =\n",
              "          google.colab.kernel.accessAllowed ? 'block' : 'none';\n",
              "\n",
              "        async function convertToInteractive(key) {\n",
              "          const element = document.querySelector('#df-fc74735a-5634-4901-9a53-fef12fc86f84');\n",
              "          const dataTable =\n",
              "            await google.colab.kernel.invokeFunction('convertToInteractive',\n",
              "                                                     [key], {});\n",
              "          if (!dataTable) return;\n",
              "\n",
              "          const docLinkHtml = 'Like what you see? Visit the ' +\n",
              "            '<a target=\"_blank\" href=https://colab.research.google.com/notebooks/data_table.ipynb>data table notebook</a>'\n",
              "            + ' to learn more about interactive tables.';\n",
              "          element.innerHTML = '';\n",
              "          dataTable['output_type'] = 'display_data';\n",
              "          await google.colab.output.renderOutput(dataTable, element);\n",
              "          const docLink = document.createElement('div');\n",
              "          docLink.innerHTML = docLinkHtml;\n",
              "          element.appendChild(docLink);\n",
              "        }\n",
              "      </script>\n",
              "    </div>\n",
              "  </div>\n",
              "  "
            ],
            "text/plain": [
              "                         count        mean  ...      75%      max\n",
              "status                   800.0     2.64875  ...     4.00      4.0\n",
              "duration                 800.0    20.49625  ...    24.00     72.0\n",
              "credit_history           800.0     2.58250  ...     4.00      4.0\n",
              "purpose                  800.0     2.78500  ...     3.00     10.0\n",
              "amount                   800.0  3210.29000  ...  3907.25  18424.0\n",
              "savings                  800.0     2.14375  ...     3.00      5.0\n",
              "employment_duration      800.0     3.39500  ...     5.00      5.0\n",
              "installment_rate         800.0     2.95250  ...     4.00      4.0\n",
              "personal_status_sex      800.0     2.68750  ...     3.00      4.0\n",
              "other_debtors            800.0     1.14375  ...     1.00      3.0\n",
              "present_residence        800.0     2.82500  ...     4.00      4.0\n",
              "property                 800.0     2.35375  ...     3.00      4.0\n",
              "age                      800.0    35.54250  ...    42.00     75.0\n",
              "other_installment_plans  800.0     2.67375  ...     3.00      3.0\n",
              "housing                  800.0     1.94125  ...     2.00      3.0\n",
              "number_credits           800.0     1.42000  ...     2.00      4.0\n",
              "job                      800.0     2.90125  ...     3.00      4.0\n",
              "people_liable            800.0     1.84500  ...     2.00      2.0\n",
              "telephone                800.0     1.39875  ...     2.00      2.0\n",
              "foreign_worker           800.0     1.95750  ...     2.00      2.0\n",
              "credit_risk              800.0     0.75000  ...     1.00      1.0\n",
              "\n",
              "[21 rows x 8 columns]"
            ]
          },
          "metadata": {},
          "execution_count": 6
        }
      ]
    },
    {
      "cell_type": "code",
      "source": [
        "df.hist(bins=50, figsize=(20,15))"
      ],
      "metadata": {
        "colab": {
          "base_uri": "https://localhost:8080/",
          "height": 1000
        },
        "id": "hDPwlwudMjBG",
        "outputId": "67fa248d-475b-4e29-94e0-a8f488a4eb03"
      },
      "execution_count": 7,
      "outputs": [
        {
          "output_type": "execute_result",
          "data": {
            "text/plain": [
              "array([[<matplotlib.axes._subplots.AxesSubplot object at 0x7feb82facbd0>,\n",
              "        <matplotlib.axes._subplots.AxesSubplot object at 0x7feb82f0c110>,\n",
              "        <matplotlib.axes._subplots.AxesSubplot object at 0x7feb82ec56d0>,\n",
              "        <matplotlib.axes._subplots.AxesSubplot object at 0x7feb82edea90>,\n",
              "        <matplotlib.axes._subplots.AxesSubplot object at 0x7feb82e3b0d0>],\n",
              "       [<matplotlib.axes._subplots.AxesSubplot object at 0x7feb82e6f6d0>,\n",
              "        <matplotlib.axes._subplots.AxesSubplot object at 0x7feb82e26d50>,\n",
              "        <matplotlib.axes._subplots.AxesSubplot object at 0x7feb82dea2d0>,\n",
              "        <matplotlib.axes._subplots.AxesSubplot object at 0x7feb82dea310>,\n",
              "        <matplotlib.axes._subplots.AxesSubplot object at 0x7feb82d9ea10>],\n",
              "       [<matplotlib.axes._subplots.AxesSubplot object at 0x7feb82d15550>,\n",
              "        <matplotlib.axes._subplots.AxesSubplot object at 0x7feb82ccbb50>,\n",
              "        <matplotlib.axes._subplots.AxesSubplot object at 0x7feb82c8c190>,\n",
              "        <matplotlib.axes._subplots.AxesSubplot object at 0x7feb82c44790>,\n",
              "        <matplotlib.axes._subplots.AxesSubplot object at 0x7feb82bf8d90>],\n",
              "       [<matplotlib.axes._subplots.AxesSubplot object at 0x7feb82bbc3d0>,\n",
              "        <matplotlib.axes._subplots.AxesSubplot object at 0x7feb82bf09d0>,\n",
              "        <matplotlib.axes._subplots.AxesSubplot object at 0x7feb82b9eb10>,\n",
              "        <matplotlib.axes._subplots.AxesSubplot object at 0x7feb82b6a610>,\n",
              "        <matplotlib.axes._subplots.AxesSubplot object at 0x7feb82b20c10>],\n",
              "       [<matplotlib.axes._subplots.AxesSubplot object at 0x7feb82ae3250>,\n",
              "        <matplotlib.axes._subplots.AxesSubplot object at 0x7feb82a99850>,\n",
              "        <matplotlib.axes._subplots.AxesSubplot object at 0x7feb82a4de50>,\n",
              "        <matplotlib.axes._subplots.AxesSubplot object at 0x7feb82a0f490>,\n",
              "        <matplotlib.axes._subplots.AxesSubplot object at 0x7feb829c4a90>]],\n",
              "      dtype=object)"
            ]
          },
          "metadata": {},
          "execution_count": 7
        },
        {
          "output_type": "display_data",
          "data": {
            "image/png": "[encoded data removed]",
            "text/plain": [
              "<Figure size 1440x1080 with 25 Axes>"
            ]
          },
          "metadata": {
            "needs_background": "light"
          }
        }
      ]
    },
    {
      "cell_type": "code",
      "source": [
        "df['log_amount'] = [np.log(x) for x in df['amount']]\n",
        "df['log_amount'].hist(bins = 50,figsize=(10,10))"
      ],
      "metadata": {
        "colab": {
          "base_uri": "https://localhost:8080/",
          "height": 610
        },
        "id": "Y3ialcfPMfI2",
        "outputId": "4c38393b-c9e7-4cbf-922a-3222dcef5ddf"
      },
      "execution_count": 8,
      "outputs": [
        {
          "output_type": "execute_result",
          "data": {
            "text/plain": [
              "<matplotlib.axes._subplots.AxesSubplot at 0x7feb81ea04d0>"
            ]
          },
          "metadata": {},
          "execution_count": 8
        },
        {
          "output_type": "display_data",
          "data": {
            "image/png": "[encoded data removed]",
            "text/plain": [
              "<Figure size 720x720 with 1 Axes>"
            ]
          },
          "metadata": {
            "needs_background": "light"
          }
        }
      ]
    },
    {
      "cell_type": "code",
      "source": [
        "df['log_age'] = [np.log(x) for x in df['age']]\n",
        "df['log_age'].hist(bins = 50,figsize=(10,10))"
      ],
      "metadata": {
        "colab": {
          "base_uri": "https://localhost:8080/",
          "height": 610
        },
        "id": "yKifU0c_RCbm",
        "outputId": "f39d975b-2a3d-4994-e7f9-5182b2282412"
      },
      "execution_count": 9,
      "outputs": [
        {
          "output_type": "execute_result",
          "data": {
            "text/plain": [
              "<matplotlib.axes._subplots.AxesSubplot at 0x7feb81524d10>"
            ]
          },
          "metadata": {},
          "execution_count": 9
        },
        {
          "output_type": "display_data",
          "data": {
            "image/png": "[encoded data removed]",
            "text/plain": [
              "<Figure size 720x720 with 1 Axes>"
            ]
          },
          "metadata": {
            "needs_background": "light"
          }
        }
      ]
    },
    {
      "cell_type": "code",
      "source": [
        "# Applying Windsorization to age variable\n",
        "def winsorize(df, variable):\n",
        "  upper_limit = df[variable].quantile(0.95)\n",
        "  lower_limit = df[variable].quantile(0.05)\n",
        "  return np.where(df[variable] > upper_limit, upper_limit,np.where(df[variable] < lower_limit, lower_limit, df[variable]))\n"
      ],
      "metadata": {
        "id": "7ZZTBTyXFE2d"
      },
      "execution_count": 11,
      "outputs": []
    },
    {
      "cell_type": "code",
      "source": [
        "# creating the variable w_age created using windsorization\n",
        "df['w_age']= winsorize(df, 'age')\n",
        "df['w_age'].hist(bins = 50,figsize=(10,10))"
      ],
      "metadata": {
        "id": "nKWNZSQIMfNi",
        "colab": {
          "base_uri": "https://localhost:8080/",
          "height": 610
        },
        "outputId": "4721973a-6d0c-4bfb-ca56-54976184fc3e"
      },
      "execution_count": 12,
      "outputs": [
        {
          "output_type": "execute_result",
          "data": {
            "text/plain": [
              "<matplotlib.axes._subplots.AxesSubplot at 0x7feb7b1ed250>"
            ]
          },
          "metadata": {},
          "execution_count": 12
        },
        {
          "output_type": "display_data",
          "data": {
            "image/png": "[encoded data removed]",
            "text/plain": [
              "<Figure size 720x720 with 1 Axes>"
            ]
          },
          "metadata": {
            "needs_background": "light"
          }
        }
      ]
    },
    {
      "cell_type": "code",
      "source": [
        "# creating the variable w_amount created using windsorization\n",
        "df['w_amount']= winsorize(df, 'amount')\n",
        "df['w_amount'].hist(bins = 50,figsize=(10,10))"
      ],
      "metadata": {
        "colab": {
          "base_uri": "https://localhost:8080/",
          "height": 610
        },
        "id": "O11Kg8OTUrYM",
        "outputId": "4783d7b9-4394-4b63-f76d-36520f2628cd"
      },
      "execution_count": 13,
      "outputs": [
        {
          "output_type": "execute_result",
          "data": {
            "text/plain": [
              "<matplotlib.axes._subplots.AxesSubplot at 0x7feb79e94910>"
            ]
          },
          "metadata": {},
          "execution_count": 13
        },
        {
          "output_type": "display_data",
          "data": {
            "image/png": "[encoded data removed]",
            "text/plain": [
              "<Figure size 720x720 with 1 Axes>"
            ]
          },
          "metadata": {
            "needs_background": "light"
          }
        }
      ]
    },
    {
      "cell_type": "code",
      "source": [
        "# Using the IQR to deal with the outliers on age variable\n",
        "def iqr(df, variable):\n",
        "  lb = []\n",
        "  ub = []\n",
        "  q1, q3 = np.percentile(df[variable], [25, 75])\n",
        "  iqr = q3 - q1\n",
        "  lower_bound = q1 - (iqr * 1.5)\n",
        "  upper_bound = q3 + (iqr * 1.5)\n",
        "  for x in df[variable]:\n",
        "    if x <= lower_bound:\n",
        "      lb.append(x)\n",
        "    if x >= upper_bound:\n",
        "      ub.append(x)\n",
        "  return lb, ub, lower_bound, upper_bound "
      ],
      "metadata": {
        "id": "ADn68RBXGywE"
      },
      "execution_count": 14,
      "outputs": []
    },
    {
      "cell_type": "code",
      "source": [
        "# Using Z Score for outlier detection\n",
        "def z_score(df, variable):\n",
        "  LB = []\n",
        "  UB = []\n",
        "  uper_bound = df[variable].mean() + 3*df[variable].std()\n",
        "  lower_bound = df[variable].mean() - 3*df[variable].std()\n",
        "  for x in df[variable]:\n",
        "    if x <= lower_bound:\n",
        "      LB.append(x)\n",
        "    if x >= uper_bound:\n",
        "      UB.append(x)\n",
        "  return LB, UB, lower_bound, uper_bound "
      ],
      "metadata": {
        "id": "Y29HVj_HOl8O"
      },
      "execution_count": 15,
      "outputs": []
    },
    {
      "cell_type": "code",
      "source": [
        "# creating variable using iqr and z_score\n",
        "def capping(df, variable, lower_limit, upper_limit ):\n",
        "  return np.where(df[variable] > upper_limit, upper_limit, np.where(df[variable] < lower_limit, lower_limit, df[variable]))"
      ],
      "metadata": {
        "id": "rI71Q76zP9UU"
      },
      "execution_count": 16,
      "outputs": []
    },
    {
      "cell_type": "code",
      "source": [
        "def box_plot(df, variable):\n",
        "  if df[variable].dtypes == object:\n",
        "    df[variable] = pd.to_numeric(df[variable],errors = 'coerce')\n",
        "  plt.figure(figsize=(10,4))\n",
        "  sns.boxplot(df[variable])\n",
        "  plt.show()"
      ],
      "metadata": {
        "id": "lhd38SKgN06p"
      },
      "execution_count": 17,
      "outputs": []
    },
    {
      "cell_type": "code",
      "source": [
        "# Verifying if the newly cerated variable w_age has outliers using iqr score\n",
        "lb, ub, x, z = iqr(df, 'log_age')\n",
        "lb, ub, x, z"
      ],
      "metadata": {
        "colab": {
          "base_uri": "https://localhost:8080/"
        },
        "id": "5srKjGK2PNuw",
        "outputId": "423f3193-ac67-47d8-d9fb-fcf56d24038c"
      },
      "execution_count": 18,
      "outputs": [
        {
          "output_type": "execute_result",
          "data": {
            "text/plain": [
              "([], [], 2.63308773758577, 4.400418746701927)"
            ]
          },
          "metadata": {},
          "execution_count": 18
        }
      ]
    },
    {
      "cell_type": "code",
      "source": [
        "# Verifying if the newly cerated variable w_age has outliers using z score\n",
        "lb, ub, x, z = z_score(df, 'log_age')\n",
        "lb, ub, x, z"
      ],
      "metadata": {
        "colab": {
          "base_uri": "https://localhost:8080/"
        },
        "id": "_ymaGhKGPW8_",
        "outputId": "83a4ebfd-7cab-4d5c-e703-565978774f59"
      },
      "execution_count": 19,
      "outputs": [
        {
          "output_type": "execute_result",
          "data": {
            "text/plain": [
              "([], [], 2.6394038098025163, 4.411875568301057)"
            ]
          },
          "metadata": {},
          "execution_count": 19
        }
      ]
    },
    {
      "cell_type": "code",
      "source": [
        "# applying capping with z score and iqr\n",
        "lb, ub, x, z = iqr(df, 'age')\n",
        "df['iqr_age'] = capping(df, 'age', x, z)"
      ],
      "metadata": {
        "id": "fcSsJie0RegX"
      },
      "execution_count": 20,
      "outputs": []
    },
    {
      "cell_type": "code",
      "source": [
        "lb, ub, x, z = z_score(df, 'age')\n",
        "df['z_age'] = capping(df, 'age', x, z)"
      ],
      "metadata": {
        "id": "b5J0ygSYR3uD"
      },
      "execution_count": 21,
      "outputs": []
    },
    {
      "cell_type": "code",
      "source": [
        "lb, ub, x, z = z_score(df, 'amount')\n",
        "df['z_amount'] = capping(df, 'amount', x, z)"
      ],
      "metadata": {
        "id": "tp8lypcQVE-a"
      },
      "execution_count": 22,
      "outputs": []
    },
    {
      "cell_type": "code",
      "source": [
        "# applying capping with z score and iqr\n",
        "lb, ub, x, z = iqr(df, 'amount')\n",
        "df['iqr_amount'] = capping(df, 'amount', x, z)"
      ],
      "metadata": {
        "id": "5tgUOn5NVOOp"
      },
      "execution_count": 23,
      "outputs": []
    },
    {
      "cell_type": "code",
      "source": [
        "lb, ub, x, z = z_score(df, 'iqr_age')\n",
        "lb, ub"
      ],
      "metadata": {
        "id": "HUz0nyOjSAHM",
        "colab": {
          "base_uri": "https://localhost:8080/"
        },
        "outputId": "ffe7efe2-fe0a-4a1f-eaa1-d299076d1056"
      },
      "execution_count": 49,
      "outputs": [
        {
          "output_type": "execute_result",
          "data": {
            "text/plain": [
              "([], [])"
            ]
          },
          "metadata": {},
          "execution_count": 49
        }
      ]
    },
    {
      "cell_type": "code",
      "source": [
        "lb, ub, x, z = iqr(df, 'iqr_age')\n",
        "lb, ub"
      ],
      "metadata": {
        "colab": {
          "base_uri": "https://localhost:8080/"
        },
        "id": "JGNNqfTmATjZ",
        "outputId": "4a0132ec-1fa3-4909-d0a3-9a3f35f5e744"
      },
      "execution_count": 48,
      "outputs": [
        {
          "output_type": "execute_result",
          "data": {
            "text/plain": [
              "([],\n",
              " [64.5,\n",
              "  64.5,\n",
              "  64.5,\n",
              "  64.5,\n",
              "  64.5,\n",
              "  64.5,\n",
              "  64.5,\n",
              "  64.5,\n",
              "  64.5,\n",
              "  64.5,\n",
              "  64.5,\n",
              "  64.5,\n",
              "  64.5,\n",
              "  64.5,\n",
              "  64.5])"
            ]
          },
          "metadata": {},
          "execution_count": 48
        }
      ]
    },
    {
      "cell_type": "code",
      "source": [
        "box_plot(df,'iqr_age')"
      ],
      "metadata": {
        "colab": {
          "base_uri": "https://localhost:8080/",
          "height": 336
        },
        "id": "dltZPXZsSwU8",
        "outputId": "a90e947b-ed29-4e24-d547-26c7bccc83ea"
      },
      "execution_count": 47,
      "outputs": [
        {
          "output_type": "stream",
          "name": "stderr",
          "text": [
            "/usr/local/lib/python3.7/dist-packages/seaborn/_decorators.py:43: FutureWarning: Pass the following variable as a keyword arg: x. From version 0.12, the only valid positional argument will be `data`, and passing other arguments without an explicit keyword will result in an error or misinterpretation.\n",
            "  FutureWarning\n"
          ]
        },
        {
          "output_type": "display_data",
          "data": {
            "image/png": "[encoded data removed]",
            "text/plain": [
              "<Figure size 720x288 with 1 Axes>"
            ]
          },
          "metadata": {
            "needs_background": "light"
          }
        }
      ]
    },
    {
      "cell_type": "code",
      "source": [
        "df.head(5)"
      ],
      "metadata": {
        "colab": {
          "base_uri": "https://localhost:8080/",
          "height": 270
        },
        "id": "qFZenW6p_aIC",
        "outputId": "1f485e70-3fc3-40b8-df38-b799b34837a0"
      },
      "execution_count": 25,
      "outputs": [
        {
          "output_type": "execute_result",
          "data": {
            "text/html": [
              "\n",
              "  <div id=\"df-b4f42b9b-c8ab-4293-bc86-724f44cc3a58\">\n",
              "    <div class=\"colab-df-container\">\n",
              "      <div>\n",
              "<style scoped>\n",
              "    .dataframe tbody tr th:only-of-type {\n",
              "        vertical-align: middle;\n",
              "    }\n",
              "\n",
              "    .dataframe tbody tr th {\n",
              "        vertical-align: top;\n",
              "    }\n",
              "\n",
              "    .dataframe thead th {\n",
              "        text-align: right;\n",
              "    }\n",
              "</style>\n",
              "<table border=\"1\" class=\"dataframe\">\n",
              "  <thead>\n",
              "    <tr style=\"text-align: right;\">\n",
              "      <th></th>\n",
              "      <th>status</th>\n",
              "      <th>duration</th>\n",
              "      <th>credit_history</th>\n",
              "      <th>purpose</th>\n",
              "      <th>amount</th>\n",
              "      <th>savings</th>\n",
              "      <th>employment_duration</th>\n",
              "      <th>installment_rate</th>\n",
              "      <th>personal_status_sex</th>\n",
              "      <th>other_debtors</th>\n",
              "      <th>present_residence</th>\n",
              "      <th>property</th>\n",
              "      <th>age</th>\n",
              "      <th>other_installment_plans</th>\n",
              "      <th>housing</th>\n",
              "      <th>number_credits</th>\n",
              "      <th>job</th>\n",
              "      <th>people_liable</th>\n",
              "      <th>telephone</th>\n",
              "      <th>foreign_worker</th>\n",
              "      <th>credit_risk</th>\n",
              "      <th>log_amount</th>\n",
              "      <th>log_age</th>\n",
              "      <th>w_age</th>\n",
              "      <th>w_amount</th>\n",
              "      <th>iqr_age</th>\n",
              "      <th>z_age</th>\n",
              "      <th>z_amount</th>\n",
              "      <th>iqr_amount</th>\n",
              "    </tr>\n",
              "  </thead>\n",
              "  <tbody>\n",
              "    <tr>\n",
              "      <th>0</th>\n",
              "      <td>1</td>\n",
              "      <td>18</td>\n",
              "      <td>4</td>\n",
              "      <td>2</td>\n",
              "      <td>1049</td>\n",
              "      <td>1</td>\n",
              "      <td>2</td>\n",
              "      <td>4</td>\n",
              "      <td>2</td>\n",
              "      <td>1</td>\n",
              "      <td>4</td>\n",
              "      <td>2</td>\n",
              "      <td>21</td>\n",
              "      <td>3</td>\n",
              "      <td>1</td>\n",
              "      <td>1</td>\n",
              "      <td>3</td>\n",
              "      <td>2</td>\n",
              "      <td>1</td>\n",
              "      <td>2</td>\n",
              "      <td>1</td>\n",
              "      <td>6.955593</td>\n",
              "      <td>3.044522</td>\n",
              "      <td>22.0</td>\n",
              "      <td>1049.0</td>\n",
              "      <td>21.0</td>\n",
              "      <td>21.0</td>\n",
              "      <td>1049.0</td>\n",
              "      <td>1049.0</td>\n",
              "    </tr>\n",
              "    <tr>\n",
              "      <th>1</th>\n",
              "      <td>1</td>\n",
              "      <td>9</td>\n",
              "      <td>4</td>\n",
              "      <td>0</td>\n",
              "      <td>2799</td>\n",
              "      <td>1</td>\n",
              "      <td>3</td>\n",
              "      <td>2</td>\n",
              "      <td>3</td>\n",
              "      <td>1</td>\n",
              "      <td>2</td>\n",
              "      <td>1</td>\n",
              "      <td>36</td>\n",
              "      <td>3</td>\n",
              "      <td>1</td>\n",
              "      <td>2</td>\n",
              "      <td>3</td>\n",
              "      <td>1</td>\n",
              "      <td>1</td>\n",
              "      <td>2</td>\n",
              "      <td>1</td>\n",
              "      <td>7.937017</td>\n",
              "      <td>3.583519</td>\n",
              "      <td>36.0</td>\n",
              "      <td>2799.0</td>\n",
              "      <td>36.0</td>\n",
              "      <td>36.0</td>\n",
              "      <td>2799.0</td>\n",
              "      <td>2799.0</td>\n",
              "    </tr>\n",
              "    <tr>\n",
              "      <th>2</th>\n",
              "      <td>2</td>\n",
              "      <td>12</td>\n",
              "      <td>2</td>\n",
              "      <td>9</td>\n",
              "      <td>841</td>\n",
              "      <td>2</td>\n",
              "      <td>4</td>\n",
              "      <td>2</td>\n",
              "      <td>2</td>\n",
              "      <td>1</td>\n",
              "      <td>4</td>\n",
              "      <td>1</td>\n",
              "      <td>23</td>\n",
              "      <td>3</td>\n",
              "      <td>1</td>\n",
              "      <td>1</td>\n",
              "      <td>2</td>\n",
              "      <td>2</td>\n",
              "      <td>1</td>\n",
              "      <td>2</td>\n",
              "      <td>1</td>\n",
              "      <td>6.734592</td>\n",
              "      <td>3.135494</td>\n",
              "      <td>23.0</td>\n",
              "      <td>841.0</td>\n",
              "      <td>23.0</td>\n",
              "      <td>23.0</td>\n",
              "      <td>841.0</td>\n",
              "      <td>841.0</td>\n",
              "    </tr>\n",
              "    <tr>\n",
              "      <th>3</th>\n",
              "      <td>1</td>\n",
              "      <td>12</td>\n",
              "      <td>4</td>\n",
              "      <td>0</td>\n",
              "      <td>2122</td>\n",
              "      <td>1</td>\n",
              "      <td>3</td>\n",
              "      <td>3</td>\n",
              "      <td>3</td>\n",
              "      <td>1</td>\n",
              "      <td>2</td>\n",
              "      <td>1</td>\n",
              "      <td>39</td>\n",
              "      <td>3</td>\n",
              "      <td>1</td>\n",
              "      <td>2</td>\n",
              "      <td>2</td>\n",
              "      <td>1</td>\n",
              "      <td>1</td>\n",
              "      <td>1</td>\n",
              "      <td>1</td>\n",
              "      <td>7.660114</td>\n",
              "      <td>3.663562</td>\n",
              "      <td>39.0</td>\n",
              "      <td>2122.0</td>\n",
              "      <td>39.0</td>\n",
              "      <td>39.0</td>\n",
              "      <td>2122.0</td>\n",
              "      <td>2122.0</td>\n",
              "    </tr>\n",
              "    <tr>\n",
              "      <th>4</th>\n",
              "      <td>1</td>\n",
              "      <td>10</td>\n",
              "      <td>4</td>\n",
              "      <td>0</td>\n",
              "      <td>2241</td>\n",
              "      <td>1</td>\n",
              "      <td>2</td>\n",
              "      <td>1</td>\n",
              "      <td>3</td>\n",
              "      <td>1</td>\n",
              "      <td>3</td>\n",
              "      <td>1</td>\n",
              "      <td>48</td>\n",
              "      <td>3</td>\n",
              "      <td>1</td>\n",
              "      <td>2</td>\n",
              "      <td>2</td>\n",
              "      <td>1</td>\n",
              "      <td>1</td>\n",
              "      <td>1</td>\n",
              "      <td>1</td>\n",
              "      <td>7.714677</td>\n",
              "      <td>3.871201</td>\n",
              "      <td>48.0</td>\n",
              "      <td>2241.0</td>\n",
              "      <td>48.0</td>\n",
              "      <td>48.0</td>\n",
              "      <td>2241.0</td>\n",
              "      <td>2241.0</td>\n",
              "    </tr>\n",
              "  </tbody>\n",
              "</table>\n",
              "</div>\n",
              "      <button class=\"colab-df-convert\" onclick=\"convertToInteractive('df-b4f42b9b-c8ab-4293-bc86-724f44cc3a58')\"\n",
              "              title=\"Convert this dataframe to an interactive table.\"\n",
              "              style=\"display:none;\">\n",
              "        \n",
              "  <svg xmlns=\"http://www.w3.org/2000/svg\" height=\"24px\"viewBox=\"0 0 24 24\"\n",
              "       width=\"24px\">\n",
              "    <path d=\"M0 0h24v24H0V0z\" fill=\"none\"/>\n",
              "    <path d=\"M18.56 5.44l.94 2.06.94-2.06 2.06-.94-2.06-.94-.94-2.06-.94 2.06-2.06.94zm-11 1L8.5 8.5l.94-2.06 2.06-.94-2.06-.94L8.5 2.5l-.94 2.06-2.06.94zm10 10l.94 2.06.94-2.06 2.06-.94-2.06-.94-.94-2.06-.94 2.06-2.06.94z\"/><path d=\"M17.41 7.96l-1.37-1.37c-.4-.4-.92-.59-1.43-.59-.52 0-1.04.2-1.43.59L10.3 9.45l-7.72 7.72c-.78.78-.78 2.05 0 2.83L4 21.41c.39.39.9.59 1.41.59.51 0 1.02-.2 1.41-.59l7.78-7.78 2.81-2.81c.8-.78.8-2.07 0-2.86zM5.41 20L4 18.59l7.72-7.72 1.47 1.35L5.41 20z\"/>\n",
              "  </svg>\n",
              "      </button>\n",
              "      \n",
              "  <style>\n",
              "    .colab-df-container {\n",
              "      display:flex;\n",
              "      flex-wrap:wrap;\n",
              "      gap: 12px;\n",
              "    }\n",
              "\n",
              "    .colab-df-convert {\n",
              "      background-color: #E8F0FE;\n",
              "      border: none;\n",
              "      border-radius: 50%;\n",
              "      cursor: pointer;\n",
              "      display: none;\n",
              "      fill: #1967D2;\n",
              "      height: 32px;\n",
              "      padding: 0 0 0 0;\n",
              "      width: 32px;\n",
              "    }\n",
              "\n",
              "    .colab-df-convert:hover {\n",
              "      background-color: #E2EBFA;\n",
              "      box-shadow: 0px 1px 2px rgba(60, 64, 67, 0.3), 0px 1px 3px 1px rgba(60, 64, 67, 0.15);\n",
              "      fill: #174EA6;\n",
              "    }\n",
              "\n",
              "    [theme=dark] .colab-df-convert {\n",
              "      background-color: #3B4455;\n",
              "      fill: #D2E3FC;\n",
              "    }\n",
              "\n",
              "    [theme=dark] .colab-df-convert:hover {\n",
              "      background-color: #434B5C;\n",
              "      box-shadow: 0px 1px 3px 1px rgba(0, 0, 0, 0.15);\n",
              "      filter: drop-shadow(0px 1px 2px rgba(0, 0, 0, 0.3));\n",
              "      fill: #FFFFFF;\n",
              "    }\n",
              "  </style>\n",
              "\n",
              "      <script>\n",
              "        const buttonEl =\n",
              "          document.querySelector('#df-b4f42b9b-c8ab-4293-bc86-724f44cc3a58 button.colab-df-convert');\n",
              "        buttonEl.style.display =\n",
              "          google.colab.kernel.accessAllowed ? 'block' : 'none';\n",
              "\n",
              "        async function convertToInteractive(key) {\n",
              "          const element = document.querySelector('#df-b4f42b9b-c8ab-4293-bc86-724f44cc3a58');\n",
              "          const dataTable =\n",
              "            await google.colab.kernel.invokeFunction('convertToInteractive',\n",
              "                                                     [key], {});\n",
              "          if (!dataTable) return;\n",
              "\n",
              "          const docLinkHtml = 'Like what you see? Visit the ' +\n",
              "            '<a target=\"_blank\" href=https://colab.research.google.com/notebooks/data_table.ipynb>data table notebook</a>'\n",
              "            + ' to learn more about interactive tables.';\n",
              "          element.innerHTML = '';\n",
              "          dataTable['output_type'] = 'display_data';\n",
              "          await google.colab.output.renderOutput(dataTable, element);\n",
              "          const docLink = document.createElement('div');\n",
              "          docLink.innerHTML = docLinkHtml;\n",
              "          element.appendChild(docLink);\n",
              "        }\n",
              "      </script>\n",
              "    </div>\n",
              "  </div>\n",
              "  "
            ],
            "text/plain": [
              "   status  duration  credit_history  ...  z_age  z_amount  iqr_amount\n",
              "0       1        18               4  ...   21.0    1049.0      1049.0\n",
              "1       1         9               4  ...   36.0    2799.0      2799.0\n",
              "2       2        12               2  ...   23.0     841.0       841.0\n",
              "3       1        12               4  ...   39.0    2122.0      2122.0\n",
              "4       1        10               4  ...   48.0    2241.0      2241.0\n",
              "\n",
              "[5 rows x 29 columns]"
            ]
          },
          "metadata": {},
          "execution_count": 25
        }
      ]
    },
    {
      "cell_type": "code",
      "source": [
        "df['iqr_age'].min()"
      ],
      "metadata": {
        "colab": {
          "base_uri": "https://localhost:8080/"
        },
        "id": "A2TBne0jDp3_",
        "outputId": "8e9f39e4-788d-42b3-fbbb-f0ba7a808132"
      },
      "execution_count": 53,
      "outputs": [
        {
          "output_type": "execute_result",
          "data": {
            "text/plain": [
              "19.0"
            ]
          },
          "metadata": {},
          "execution_count": 53
        }
      ]
    },
    {
      "cell_type": "code",
      "source": [
        "# Use log_amount for amount and iqr_age for age.\n"
      ],
      "metadata": {
        "id": "hfC-FXwXEU4c"
      },
      "execution_count": null,
      "outputs": []
    },
    {
      "cell_type": "code",
      "source": [
        "# dealing with variable purpose by doing the folowing mapping:\n",
        "# 0 --> 8, 1 --> [1, 2], 2 --> [3, 4, 5, 6], 4 --> [7, 9], 5 --> 10\n",
        "#df1 = df.copy()\n",
        "mapping = {\n",
        "8: 0,\n",
        "9: 4,\n",
        "10: 5,\n",
        "6: 2,\n",
        "7: 4,\n",
        "8: 5,\n",
        "2: 1,\n",
        "5: 2,\n",
        "3:2,\n",
        "0:0,\n",
        "1:1,\n",
        "2:1,\n",
        "4:4\n",
        "}\n",
        "\n",
        "df.loc[:, \"purpose\"] = df.purpose.map(mapping)"
      ],
      "metadata": {
        "id": "zPNichOQgi2x"
      },
      "execution_count": null,
      "outputs": []
    },
    {
      "cell_type": "code",
      "source": [
        "# Before creating the dummy variables let us copy this dataframe and save it as csv\n",
        "#df.to_csv('train_1.csv')\n",
        "df1 = df.copy()\n",
        "DF = df.copy()\n",
        "# transform the purpose columns to object and then get the dummy variables\n",
        "DF = pd.get_dummies(DF, prefix='purpose', columns = ['purpose'])"
      ],
      "metadata": {
        "id": "FW9A_7pakvQ4"
      },
      "execution_count": null,
      "outputs": []
    },
    {
      "cell_type": "markdown",
      "source": [
        "# Data Processing and Train and Test Separation"
      ],
      "metadata": {
        "id": "O9j58UFEEgH9"
      }
    },
    {
      "cell_type": "code",
      "source": [
        "#Copy original Dataframe\n",
        "Df = data.copy()"
      ],
      "metadata": {
        "id": "6RGSMU3dEoIt"
      },
      "execution_count": 75,
      "outputs": []
    },
    {
      "cell_type": "code",
      "source": [
        "Df.head()"
      ],
      "metadata": {
        "colab": {
          "base_uri": "https://localhost:8080/",
          "height": 270
        },
        "id": "HH0kVcY9HF7f",
        "outputId": "b2255de9-c303-4641-f4d5-92682b35cda7"
      },
      "execution_count": 76,
      "outputs": [
        {
          "output_type": "execute_result",
          "data": {
            "text/html": [
              "\n",
              "  <div id=\"df-3bcb758e-c5b1-4579-bf70-e5bd7f141947\">\n",
              "    <div class=\"colab-df-container\">\n",
              "      <div>\n",
              "<style scoped>\n",
              "    .dataframe tbody tr th:only-of-type {\n",
              "        vertical-align: middle;\n",
              "    }\n",
              "\n",
              "    .dataframe tbody tr th {\n",
              "        vertical-align: top;\n",
              "    }\n",
              "\n",
              "    .dataframe thead th {\n",
              "        text-align: right;\n",
              "    }\n",
              "</style>\n",
              "<table border=\"1\" class=\"dataframe\">\n",
              "  <thead>\n",
              "    <tr style=\"text-align: right;\">\n",
              "      <th></th>\n",
              "      <th>id</th>\n",
              "      <th>status</th>\n",
              "      <th>duration</th>\n",
              "      <th>credit_history</th>\n",
              "      <th>purpose</th>\n",
              "      <th>amount</th>\n",
              "      <th>savings</th>\n",
              "      <th>employment_duration</th>\n",
              "      <th>installment_rate</th>\n",
              "      <th>personal_status_sex</th>\n",
              "      <th>other_debtors</th>\n",
              "      <th>present_residence</th>\n",
              "      <th>property</th>\n",
              "      <th>age</th>\n",
              "      <th>other_installment_plans</th>\n",
              "      <th>housing</th>\n",
              "      <th>number_credits</th>\n",
              "      <th>job</th>\n",
              "      <th>people_liable</th>\n",
              "      <th>telephone</th>\n",
              "      <th>foreign_worker</th>\n",
              "      <th>credit_risk</th>\n",
              "    </tr>\n",
              "  </thead>\n",
              "  <tbody>\n",
              "    <tr>\n",
              "      <th>0</th>\n",
              "      <td>0</td>\n",
              "      <td>1</td>\n",
              "      <td>18</td>\n",
              "      <td>4</td>\n",
              "      <td>2</td>\n",
              "      <td>1049</td>\n",
              "      <td>1</td>\n",
              "      <td>2</td>\n",
              "      <td>4</td>\n",
              "      <td>2</td>\n",
              "      <td>1</td>\n",
              "      <td>4</td>\n",
              "      <td>2</td>\n",
              "      <td>21</td>\n",
              "      <td>3</td>\n",
              "      <td>1</td>\n",
              "      <td>1</td>\n",
              "      <td>3</td>\n",
              "      <td>2</td>\n",
              "      <td>1</td>\n",
              "      <td>2</td>\n",
              "      <td>1</td>\n",
              "    </tr>\n",
              "    <tr>\n",
              "      <th>1</th>\n",
              "      <td>1</td>\n",
              "      <td>1</td>\n",
              "      <td>9</td>\n",
              "      <td>4</td>\n",
              "      <td>0</td>\n",
              "      <td>2799</td>\n",
              "      <td>1</td>\n",
              "      <td>3</td>\n",
              "      <td>2</td>\n",
              "      <td>3</td>\n",
              "      <td>1</td>\n",
              "      <td>2</td>\n",
              "      <td>1</td>\n",
              "      <td>36</td>\n",
              "      <td>3</td>\n",
              "      <td>1</td>\n",
              "      <td>2</td>\n",
              "      <td>3</td>\n",
              "      <td>1</td>\n",
              "      <td>1</td>\n",
              "      <td>2</td>\n",
              "      <td>1</td>\n",
              "    </tr>\n",
              "    <tr>\n",
              "      <th>2</th>\n",
              "      <td>2</td>\n",
              "      <td>2</td>\n",
              "      <td>12</td>\n",
              "      <td>2</td>\n",
              "      <td>9</td>\n",
              "      <td>841</td>\n",
              "      <td>2</td>\n",
              "      <td>4</td>\n",
              "      <td>2</td>\n",
              "      <td>2</td>\n",
              "      <td>1</td>\n",
              "      <td>4</td>\n",
              "      <td>1</td>\n",
              "      <td>23</td>\n",
              "      <td>3</td>\n",
              "      <td>1</td>\n",
              "      <td>1</td>\n",
              "      <td>2</td>\n",
              "      <td>2</td>\n",
              "      <td>1</td>\n",
              "      <td>2</td>\n",
              "      <td>1</td>\n",
              "    </tr>\n",
              "    <tr>\n",
              "      <th>3</th>\n",
              "      <td>3</td>\n",
              "      <td>1</td>\n",
              "      <td>12</td>\n",
              "      <td>4</td>\n",
              "      <td>0</td>\n",
              "      <td>2122</td>\n",
              "      <td>1</td>\n",
              "      <td>3</td>\n",
              "      <td>3</td>\n",
              "      <td>3</td>\n",
              "      <td>1</td>\n",
              "      <td>2</td>\n",
              "      <td>1</td>\n",
              "      <td>39</td>\n",
              "      <td>3</td>\n",
              "      <td>1</td>\n",
              "      <td>2</td>\n",
              "      <td>2</td>\n",
              "      <td>1</td>\n",
              "      <td>1</td>\n",
              "      <td>1</td>\n",
              "      <td>1</td>\n",
              "    </tr>\n",
              "    <tr>\n",
              "      <th>4</th>\n",
              "      <td>5</td>\n",
              "      <td>1</td>\n",
              "      <td>10</td>\n",
              "      <td>4</td>\n",
              "      <td>0</td>\n",
              "      <td>2241</td>\n",
              "      <td>1</td>\n",
              "      <td>2</td>\n",
              "      <td>1</td>\n",
              "      <td>3</td>\n",
              "      <td>1</td>\n",
              "      <td>3</td>\n",
              "      <td>1</td>\n",
              "      <td>48</td>\n",
              "      <td>3</td>\n",
              "      <td>1</td>\n",
              "      <td>2</td>\n",
              "      <td>2</td>\n",
              "      <td>1</td>\n",
              "      <td>1</td>\n",
              "      <td>1</td>\n",
              "      <td>1</td>\n",
              "    </tr>\n",
              "  </tbody>\n",
              "</table>\n",
              "</div>\n",
              "      <button class=\"colab-df-convert\" onclick=\"convertToInteractive('df-3bcb758e-c5b1-4579-bf70-e5bd7f141947')\"\n",
              "              title=\"Convert this dataframe to an interactive table.\"\n",
              "              style=\"display:none;\">\n",
              "        \n",
              "  <svg xmlns=\"http://www.w3.org/2000/svg\" height=\"24px\"viewBox=\"0 0 24 24\"\n",
              "       width=\"24px\">\n",
              "    <path d=\"M0 0h24v24H0V0z\" fill=\"none\"/>\n",
              "    <path d=\"M18.56 5.44l.94 2.06.94-2.06 2.06-.94-2.06-.94-.94-2.06-.94 2.06-2.06.94zm-11 1L8.5 8.5l.94-2.06 2.06-.94-2.06-.94L8.5 2.5l-.94 2.06-2.06.94zm10 10l.94 2.06.94-2.06 2.06-.94-2.06-.94-.94-2.06-.94 2.06-2.06.94z\"/><path d=\"M17.41 7.96l-1.37-1.37c-.4-.4-.92-.59-1.43-.59-.52 0-1.04.2-1.43.59L10.3 9.45l-7.72 7.72c-.78.78-.78 2.05 0 2.83L4 21.41c.39.39.9.59 1.41.59.51 0 1.02-.2 1.41-.59l7.78-7.78 2.81-2.81c.8-.78.8-2.07 0-2.86zM5.41 20L4 18.59l7.72-7.72 1.47 1.35L5.41 20z\"/>\n",
              "  </svg>\n",
              "      </button>\n",
              "      \n",
              "  <style>\n",
              "    .colab-df-container {\n",
              "      display:flex;\n",
              "      flex-wrap:wrap;\n",
              "      gap: 12px;\n",
              "    }\n",
              "\n",
              "    .colab-df-convert {\n",
              "      background-color: #E8F0FE;\n",
              "      border: none;\n",
              "      border-radius: 50%;\n",
              "      cursor: pointer;\n",
              "      display: none;\n",
              "      fill: #1967D2;\n",
              "      height: 32px;\n",
              "      padding: 0 0 0 0;\n",
              "      width: 32px;\n",
              "    }\n",
              "\n",
              "    .colab-df-convert:hover {\n",
              "      background-color: #E2EBFA;\n",
              "      box-shadow: 0px 1px 2px rgba(60, 64, 67, 0.3), 0px 1px 3px 1px rgba(60, 64, 67, 0.15);\n",
              "      fill: #174EA6;\n",
              "    }\n",
              "\n",
              "    [theme=dark] .colab-df-convert {\n",
              "      background-color: #3B4455;\n",
              "      fill: #D2E3FC;\n",
              "    }\n",
              "\n",
              "    [theme=dark] .colab-df-convert:hover {\n",
              "      background-color: #434B5C;\n",
              "      box-shadow: 0px 1px 3px 1px rgba(0, 0, 0, 0.15);\n",
              "      filter: drop-shadow(0px 1px 2px rgba(0, 0, 0, 0.3));\n",
              "      fill: #FFFFFF;\n",
              "    }\n",
              "  </style>\n",
              "\n",
              "      <script>\n",
              "        const buttonEl =\n",
              "          document.querySelector('#df-3bcb758e-c5b1-4579-bf70-e5bd7f141947 button.colab-df-convert');\n",
              "        buttonEl.style.display =\n",
              "          google.colab.kernel.accessAllowed ? 'block' : 'none';\n",
              "\n",
              "        async function convertToInteractive(key) {\n",
              "          const element = document.querySelector('#df-3bcb758e-c5b1-4579-bf70-e5bd7f141947');\n",
              "          const dataTable =\n",
              "            await google.colab.kernel.invokeFunction('convertToInteractive',\n",
              "                                                     [key], {});\n",
              "          if (!dataTable) return;\n",
              "\n",
              "          const docLinkHtml = 'Like what you see? Visit the ' +\n",
              "            '<a target=\"_blank\" href=https://colab.research.google.com/notebooks/data_table.ipynb>data table notebook</a>'\n",
              "            + ' to learn more about interactive tables.';\n",
              "          element.innerHTML = '';\n",
              "          dataTable['output_type'] = 'display_data';\n",
              "          await google.colab.output.renderOutput(dataTable, element);\n",
              "          const docLink = document.createElement('div');\n",
              "          docLink.innerHTML = docLinkHtml;\n",
              "          element.appendChild(docLink);\n",
              "        }\n",
              "      </script>\n",
              "    </div>\n",
              "  </div>\n",
              "  "
            ],
            "text/plain": [
              "   id  status  duration  ...  telephone  foreign_worker  credit_risk\n",
              "0   0       1        18  ...          1               2            1\n",
              "1   1       1         9  ...          1               2            1\n",
              "2   2       2        12  ...          1               2            1\n",
              "3   3       1        12  ...          1               1            1\n",
              "4   5       1        10  ...          1               1            1\n",
              "\n",
              "[5 rows x 22 columns]"
            ]
          },
          "metadata": {},
          "execution_count": 76
        }
      ]
    },
    {
      "cell_type": "code",
      "source": [
        "#Function to process the data\n",
        "def p_process(data):\n",
        "  df = data.copy()\n",
        "  \n",
        "  df['log_amount'] = [np.log(x) for x in df['amount']]\n",
        "  lb, ub, x, z = iqr(df, 'age')\n",
        "  df['iqr_age'] = capping(df, 'age', x, z)\n",
        "  df.drop(['amount', 'age'], axis = 1, inplace= True)\n",
        "\n",
        "  return df\n",
        "\n"
      ],
      "metadata": {
        "id": "ChR1hccyE7jN"
      },
      "execution_count": 77,
      "outputs": []
    },
    {
      "cell_type": "code",
      "source": [
        "X = Df.drop(['credit_risk', 'id'], axis =1)\n",
        "y = Df['credit_risk']\n",
        "X.shape, y.shape\n"
      ],
      "metadata": {
        "colab": {
          "base_uri": "https://localhost:8080/"
        },
        "id": "X_VmiOjJGH5d",
        "outputId": "faa243bf-33f4-41f1-840c-144b1bc47d9e"
      },
      "execution_count": 78,
      "outputs": [
        {
          "output_type": "execute_result",
          "data": {
            "text/plain": [
              "((800, 20), (800,))"
            ]
          },
          "metadata": {},
          "execution_count": 78
        }
      ]
    },
    {
      "cell_type": "code",
      "source": [
        "# Divide in train and test data\n",
        "X_train, X_test, y_train, y_test = train_test_split(X, y, test_size=0.30, random_state=42, stratify = y)"
      ],
      "metadata": {
        "id": "3870LwJaHcc7"
      },
      "execution_count": 79,
      "outputs": []
    },
    {
      "cell_type": "code",
      "source": [
        "# Verify if classes are balanced\n",
        "print('Labels counts in y:', np.bincount(y))\n",
        "print('Labels counts in y_train:', np.bincount(y_train))\n",
        "print('Labels counts in y_test:', np.bincount(y_test))"
      ],
      "metadata": {
        "colab": {
          "base_uri": "https://localhost:8080/"
        },
        "id": "aRLVnLVdHthU",
        "outputId": "8b369d7e-74d5-4b21-901c-bb13b5037a37"
      },
      "execution_count": 80,
      "outputs": [
        {
          "output_type": "stream",
          "name": "stdout",
          "text": [
            "Labels counts in y: [200 600]\n",
            "Labels counts in y_train: [140 420]\n",
            "Labels counts in y_test: [ 60 180]\n"
          ]
        }
      ]
    },
    {
      "cell_type": "code",
      "source": [
        "X_test.hist(bins=50, figsize=(20,15))"
      ],
      "metadata": {
        "id": "JPJRUBR3KE96"
      },
      "execution_count": null,
      "outputs": []
    },
    {
      "cell_type": "code",
      "source": [
        "# Apply transformation funtion to both test and train function\n",
        "X_train = p_process(X_train)\n",
        "X_test = p_process(X_test)\n"
      ],
      "metadata": {
        "id": "TCFBX6AJISLs"
      },
      "execution_count": 81,
      "outputs": []
    },
    {
      "cell_type": "code",
      "source": [
        "X_test.head()"
      ],
      "metadata": {
        "colab": {
          "base_uri": "https://localhost:8080/",
          "height": 270
        },
        "id": "XMZVxOkLIpw0",
        "outputId": "4698846e-8a0c-4097-fe5e-2f9f0421b799"
      },
      "execution_count": 83,
      "outputs": [
        {
          "output_type": "execute_result",
          "data": {
            "text/html": [
              "\n",
              "  <div id=\"df-5bf89d1a-55ca-459d-acad-22a2c23a726c\">\n",
              "    <div class=\"colab-df-container\">\n",
              "      <div>\n",
              "<style scoped>\n",
              "    .dataframe tbody tr th:only-of-type {\n",
              "        vertical-align: middle;\n",
              "    }\n",
              "\n",
              "    .dataframe tbody tr th {\n",
              "        vertical-align: top;\n",
              "    }\n",
              "\n",
              "    .dataframe thead th {\n",
              "        text-align: right;\n",
              "    }\n",
              "</style>\n",
              "<table border=\"1\" class=\"dataframe\">\n",
              "  <thead>\n",
              "    <tr style=\"text-align: right;\">\n",
              "      <th></th>\n",
              "      <th>status</th>\n",
              "      <th>duration</th>\n",
              "      <th>credit_history</th>\n",
              "      <th>purpose</th>\n",
              "      <th>savings</th>\n",
              "      <th>employment_duration</th>\n",
              "      <th>installment_rate</th>\n",
              "      <th>personal_status_sex</th>\n",
              "      <th>other_debtors</th>\n",
              "      <th>present_residence</th>\n",
              "      <th>property</th>\n",
              "      <th>other_installment_plans</th>\n",
              "      <th>housing</th>\n",
              "      <th>number_credits</th>\n",
              "      <th>job</th>\n",
              "      <th>people_liable</th>\n",
              "      <th>telephone</th>\n",
              "      <th>foreign_worker</th>\n",
              "      <th>log_amount</th>\n",
              "      <th>iqr_age</th>\n",
              "    </tr>\n",
              "  </thead>\n",
              "  <tbody>\n",
              "    <tr>\n",
              "      <th>749</th>\n",
              "      <td>1</td>\n",
              "      <td>21</td>\n",
              "      <td>3</td>\n",
              "      <td>6</td>\n",
              "      <td>1</td>\n",
              "      <td>2</td>\n",
              "      <td>2</td>\n",
              "      <td>3</td>\n",
              "      <td>1</td>\n",
              "      <td>1</td>\n",
              "      <td>2</td>\n",
              "      <td>2</td>\n",
              "      <td>2</td>\n",
              "      <td>2</td>\n",
              "      <td>3</td>\n",
              "      <td>2</td>\n",
              "      <td>1</td>\n",
              "      <td>2</td>\n",
              "      <td>8.135640</td>\n",
              "      <td>26.0</td>\n",
              "    </tr>\n",
              "    <tr>\n",
              "      <th>364</th>\n",
              "      <td>4</td>\n",
              "      <td>27</td>\n",
              "      <td>3</td>\n",
              "      <td>9</td>\n",
              "      <td>1</td>\n",
              "      <td>4</td>\n",
              "      <td>3</td>\n",
              "      <td>3</td>\n",
              "      <td>1</td>\n",
              "      <td>4</td>\n",
              "      <td>3</td>\n",
              "      <td>3</td>\n",
              "      <td>2</td>\n",
              "      <td>2</td>\n",
              "      <td>3</td>\n",
              "      <td>2</td>\n",
              "      <td>1</td>\n",
              "      <td>2</td>\n",
              "      <td>8.540324</td>\n",
              "      <td>26.0</td>\n",
              "    </tr>\n",
              "    <tr>\n",
              "      <th>721</th>\n",
              "      <td>3</td>\n",
              "      <td>9</td>\n",
              "      <td>0</td>\n",
              "      <td>3</td>\n",
              "      <td>1</td>\n",
              "      <td>2</td>\n",
              "      <td>4</td>\n",
              "      <td>3</td>\n",
              "      <td>1</td>\n",
              "      <td>2</td>\n",
              "      <td>3</td>\n",
              "      <td>3</td>\n",
              "      <td>2</td>\n",
              "      <td>2</td>\n",
              "      <td>4</td>\n",
              "      <td>2</td>\n",
              "      <td>2</td>\n",
              "      <td>2</td>\n",
              "      <td>7.198184</td>\n",
              "      <td>34.0</td>\n",
              "    </tr>\n",
              "    <tr>\n",
              "      <th>402</th>\n",
              "      <td>4</td>\n",
              "      <td>18</td>\n",
              "      <td>4</td>\n",
              "      <td>2</td>\n",
              "      <td>1</td>\n",
              "      <td>2</td>\n",
              "      <td>3</td>\n",
              "      <td>1</td>\n",
              "      <td>1</td>\n",
              "      <td>2</td>\n",
              "      <td>3</td>\n",
              "      <td>3</td>\n",
              "      <td>2</td>\n",
              "      <td>2</td>\n",
              "      <td>4</td>\n",
              "      <td>2</td>\n",
              "      <td>2</td>\n",
              "      <td>2</td>\n",
              "      <td>8.237479</td>\n",
              "      <td>35.0</td>\n",
              "    </tr>\n",
              "    <tr>\n",
              "      <th>283</th>\n",
              "      <td>4</td>\n",
              "      <td>30</td>\n",
              "      <td>4</td>\n",
              "      <td>3</td>\n",
              "      <td>5</td>\n",
              "      <td>5</td>\n",
              "      <td>3</td>\n",
              "      <td>3</td>\n",
              "      <td>1</td>\n",
              "      <td>2</td>\n",
              "      <td>3</td>\n",
              "      <td>3</td>\n",
              "      <td>2</td>\n",
              "      <td>2</td>\n",
              "      <td>3</td>\n",
              "      <td>1</td>\n",
              "      <td>2</td>\n",
              "      <td>2</td>\n",
              "      <td>8.031710</td>\n",
              "      <td>40.0</td>\n",
              "    </tr>\n",
              "  </tbody>\n",
              "</table>\n",
              "</div>\n",
              "      <button class=\"colab-df-convert\" onclick=\"convertToInteractive('df-5bf89d1a-55ca-459d-acad-22a2c23a726c')\"\n",
              "              title=\"Convert this dataframe to an interactive table.\"\n",
              "              style=\"display:none;\">\n",
              "        \n",
              "  <svg xmlns=\"http://www.w3.org/2000/svg\" height=\"24px\"viewBox=\"0 0 24 24\"\n",
              "       width=\"24px\">\n",
              "    <path d=\"M0 0h24v24H0V0z\" fill=\"none\"/>\n",
              "    <path d=\"M18.56 5.44l.94 2.06.94-2.06 2.06-.94-2.06-.94-.94-2.06-.94 2.06-2.06.94zm-11 1L8.5 8.5l.94-2.06 2.06-.94-2.06-.94L8.5 2.5l-.94 2.06-2.06.94zm10 10l.94 2.06.94-2.06 2.06-.94-2.06-.94-.94-2.06-.94 2.06-2.06.94z\"/><path d=\"M17.41 7.96l-1.37-1.37c-.4-.4-.92-.59-1.43-.59-.52 0-1.04.2-1.43.59L10.3 9.45l-7.72 7.72c-.78.78-.78 2.05 0 2.83L4 21.41c.39.39.9.59 1.41.59.51 0 1.02-.2 1.41-.59l7.78-7.78 2.81-2.81c.8-.78.8-2.07 0-2.86zM5.41 20L4 18.59l7.72-7.72 1.47 1.35L5.41 20z\"/>\n",
              "  </svg>\n",
              "      </button>\n",
              "      \n",
              "  <style>\n",
              "    .colab-df-container {\n",
              "      display:flex;\n",
              "      flex-wrap:wrap;\n",
              "      gap: 12px;\n",
              "    }\n",
              "\n",
              "    .colab-df-convert {\n",
              "      background-color: #E8F0FE;\n",
              "      border: none;\n",
              "      border-radius: 50%;\n",
              "      cursor: pointer;\n",
              "      display: none;\n",
              "      fill: #1967D2;\n",
              "      height: 32px;\n",
              "      padding: 0 0 0 0;\n",
              "      width: 32px;\n",
              "    }\n",
              "\n",
              "    .colab-df-convert:hover {\n",
              "      background-color: #E2EBFA;\n",
              "      box-shadow: 0px 1px 2px rgba(60, 64, 67, 0.3), 0px 1px 3px 1px rgba(60, 64, 67, 0.15);\n",
              "      fill: #174EA6;\n",
              "    }\n",
              "\n",
              "    [theme=dark] .colab-df-convert {\n",
              "      background-color: #3B4455;\n",
              "      fill: #D2E3FC;\n",
              "    }\n",
              "\n",
              "    [theme=dark] .colab-df-convert:hover {\n",
              "      background-color: #434B5C;\n",
              "      box-shadow: 0px 1px 3px 1px rgba(0, 0, 0, 0.15);\n",
              "      filter: drop-shadow(0px 1px 2px rgba(0, 0, 0, 0.3));\n",
              "      fill: #FFFFFF;\n",
              "    }\n",
              "  </style>\n",
              "\n",
              "      <script>\n",
              "        const buttonEl =\n",
              "          document.querySelector('#df-5bf89d1a-55ca-459d-acad-22a2c23a726c button.colab-df-convert');\n",
              "        buttonEl.style.display =\n",
              "          google.colab.kernel.accessAllowed ? 'block' : 'none';\n",
              "\n",
              "        async function convertToInteractive(key) {\n",
              "          const element = document.querySelector('#df-5bf89d1a-55ca-459d-acad-22a2c23a726c');\n",
              "          const dataTable =\n",
              "            await google.colab.kernel.invokeFunction('convertToInteractive',\n",
              "                                                     [key], {});\n",
              "          if (!dataTable) return;\n",
              "\n",
              "          const docLinkHtml = 'Like what you see? Visit the ' +\n",
              "            '<a target=\"_blank\" href=https://colab.research.google.com/notebooks/data_table.ipynb>data table notebook</a>'\n",
              "            + ' to learn more about interactive tables.';\n",
              "          element.innerHTML = '';\n",
              "          dataTable['output_type'] = 'display_data';\n",
              "          await google.colab.output.renderOutput(dataTable, element);\n",
              "          const docLink = document.createElement('div');\n",
              "          docLink.innerHTML = docLinkHtml;\n",
              "          element.appendChild(docLink);\n",
              "        }\n",
              "      </script>\n",
              "    </div>\n",
              "  </div>\n",
              "  "
            ],
            "text/plain": [
              "     status  duration  credit_history  ...  foreign_worker  log_amount  iqr_age\n",
              "749       1        21               3  ...               2    8.135640     26.0\n",
              "364       4        27               3  ...               2    8.540324     26.0\n",
              "721       3         9               0  ...               2    7.198184     34.0\n",
              "402       4        18               4  ...               2    8.237479     35.0\n",
              "283       4        30               4  ...               2    8.031710     40.0\n",
              "\n",
              "[5 rows x 20 columns]"
            ]
          },
          "metadata": {},
          "execution_count": 83
        }
      ]
    },
    {
      "cell_type": "code",
      "source": [
        "# Apply Robust Scaler to both train and test data\n",
        "stdsc = RobustScaler()\n",
        "X_std_r = stdsc.fit_transform(X_train)\n",
        "X_test_std_r = stdsc.transform(X_test)\n",
        "\n"
      ],
      "metadata": {
        "id": "kmfiLtLKIi6d"
      },
      "execution_count": 85,
      "outputs": []
    },
    {
      "cell_type": "markdown",
      "source": [
        "# Aplicação de diversos modelos"
      ],
      "metadata": {
        "id": "5jWFsWglKcTK"
      }
    },
    {
      "cell_type": "code",
      "source": [
        "from sklearn.ensemble import RandomForestClassifier, GradientBoostingClassifier\n",
        "from sklearn.tree import DecisionTreeClassifier\n",
        "from sklearn.neighbors import KNeighborsClassifier\n",
        "from sklearn.svm import SVC\n",
        "from sklearn.linear_model import LogisticRegression\n",
        "from sklearn.model_selection import train_test_split, GridSearchCV\n",
        "from sklearn.metrics import confusion_matrix, accuracy_score, f1_score, roc_auc_score\n",
        "\n",
        "rstate = 79\n",
        "\n",
        "def CheckModels(dfX, dfY, dfx, dfy):\n",
        "    \n",
        "    LModels = [\"RandomForest\", \"GBoosting\", \"SVC\", \"LogisticRegression\", \"DecisionTreeClassifier\", \"knn\"]\n",
        "\n",
        "    for Classifier in LModels:\n",
        "        ## Model training\n",
        "        if Classifier==\"RandomForest\":\n",
        "            rf = RandomForestClassifier(random_state=rstate)\n",
        "            rf.fit(dfX, dfY)\n",
        "            y_pred_rf = rf.predict(dfx)\n",
        "        if Classifier==\"SVC\":       \n",
        "            svc= SVC(kernel='rbf', C=1.0, random_state=rstate, gamma = 0.2)\n",
        "            svc.fit(dfX, dfY)\n",
        "            y_pred_svc = svc.predict(dfx)\n",
        "        if Classifier==\"GBoosting\":\n",
        "            xgb = GradientBoostingClassifier(random_state=rstate)\n",
        "            xgb.fit(dfX, dfY)\n",
        "            y_pred_xgb = xgb.predict(dfx)\n",
        "        if Classifier==\"LogisticRegression\":\n",
        "            lr = LogisticRegression(random_state=rstate)\n",
        "            lr.fit(dfX, dfY)\n",
        "            y_pred_lr = lr.predict(dfx)\n",
        "        if Classifier== \"DecisionTreeClassifier\":\n",
        "            tree = DecisionTreeClassifier(random_state= rstate)\n",
        "            tree.fit(dfX, dfY)\n",
        "            y_pred_t = tree.predict(dfx)\n",
        "        if Classifier== \"knn\":\n",
        "            knn = KNeighborsClassifier(n_neighbors=6)\n",
        "            knn.fit(dfX, dfY)\n",
        "            y_pred_knn = knn.predict(dfx)\n",
        "        \n",
        "    predictors = [y_pred_rf,  y_pred_svc, y_pred_xgb, y_pred_lr, y_pred_t, y_pred_knn]\n",
        "        \n",
        "    for y, x in zip(predictors, LModels) :\n",
        "      acc = accuracy_score(dfy, y)\n",
        "      wf1 = f1_score(dfy, y, average='weighted')\n",
        "      roc = roc_auc_score(dfy, y)\n",
        "      \n",
        "      print(f\"Accurary for model {x} is = {acc:.3f}\")      \n",
        "      print(f\"roc for model {x} is = {roc:.3f}\")\n",
        "      print(f\"f1_score for model {x} is = {wf1:.3f}\")\n",
        "      print('------------------------------------------')\n",
        "        "
      ],
      "metadata": {
        "id": "Zpcjk5bBxPMB"
      },
      "execution_count": 89,
      "outputs": []
    },
    {
      "cell_type": "code",
      "source": [
        "CheckModels(X_std_r, y_train, X_test_std_r, y_test)"
      ],
      "metadata": {
        "colab": {
          "base_uri": "https://localhost:8080/"
        },
        "id": "KVlBDn7PKlY5",
        "outputId": "4a2b78d4-0a39-4ab5-d8c2-73eae9635a36"
      },
      "execution_count": 90,
      "outputs": [
        {
          "output_type": "stream",
          "name": "stdout",
          "text": [
            "Accurary for model RandomForest is = 0.762\n",
            "roc for model RandomForest is = 0.614\n",
            "f1_score for model RandomForest is = 0.739\n",
            "------------------------------------------\n",
            "Accurary for model GBoosting is = 0.762\n",
            "roc for model GBoosting is = 0.569\n",
            "f1_score for model GBoosting is = 0.713\n",
            "------------------------------------------\n",
            "Accurary for model SVC is = 0.775\n",
            "roc for model SVC is = 0.633\n",
            "f1_score for model SVC is = 0.754\n",
            "------------------------------------------\n",
            "Accurary for model LogisticRegression is = 0.725\n",
            "roc for model LogisticRegression is = 0.583\n",
            "f1_score for model LogisticRegression is = 0.707\n",
            "------------------------------------------\n",
            "Accurary for model DecisionTreeClassifier is = 0.667\n",
            "roc for model DecisionTreeClassifier is = 0.561\n",
            "f1_score for model DecisionTreeClassifier is = 0.668\n",
            "------------------------------------------\n",
            "Accurary for model knn is = 0.762\n",
            "roc for model knn is = 0.603\n",
            "f1_score for model knn is = 0.734\n",
            "------------------------------------------\n"
          ]
        }
      ]
    },
    {
      "cell_type": "markdown",
      "source": [
        "# Hyperparameter Optimization with Cross Validation"
      ],
      "metadata": {
        "id": "jTMq_fo8LJur"
      }
    },
    {
      "cell_type": "code",
      "source": [
        ""
      ],
      "metadata": {
        "id": "b8fGp318LPWy"
      },
      "execution_count": null,
      "outputs": []
    },
    {
      "cell_type": "markdown",
      "source": [
        "# PCA to data"
      ],
      "metadata": {
        "id": "BbVtD3dVLQt6"
      }
    },
    {
      "cell_type": "code",
      "source": [
        ""
      ],
      "metadata": {
        "id": "-Kt9L5PXLTRS"
      },
      "execution_count": null,
      "outputs": []
    },
    {
      "cell_type": "markdown",
      "source": [
        "# 2. Target Definition"
      ],
      "metadata": {
        "id": "SKNu0KVVlb6f"
      }
    },
    {
      "cell_type": "markdown",
      "source": [
        "## 2.1 Criar conjunto de treino e de teste"
      ],
      "metadata": {
        "id": "blIYLoXrgUmS"
      }
    },
    {
      "cell_type": "markdown",
      "source": [
        "### Normalize the data\n"
      ],
      "metadata": {
        "id": "cpOMrZ7BTvHk"
      }
    },
    {
      "cell_type": "code",
      "source": [
        "from sklearn.preprocessing import MinMaxScaler\n",
        "mms = MinMaxScaler()\n",
        "X_train_norm = mms.fit_transform(X_train)\n",
        "X_test_norm = mms.transform(X_test)"
      ],
      "metadata": {
        "id": "i2wQI0UOTucl"
      },
      "execution_count": null,
      "outputs": []
    },
    {
      "cell_type": "markdown",
      "source": [
        "### Standardize the data"
      ],
      "metadata": {
        "id": "_l3dq-bywxnk"
      }
    },
    {
      "cell_type": "code",
      "source": [
        "from sklearn.preprocessing import StandardScaler\n",
        "stdsc = StandardScaler()\n",
        "X_train_std = stdsc.fit_transform(X_train)\n",
        "X_test_std = stdsc.transform(X_test)"
      ],
      "metadata": {
        "id": "0kUbInoFuSVu"
      },
      "execution_count": null,
      "outputs": []
    },
    {
      "cell_type": "markdown",
      "source": [
        "### Robust Scaler"
      ],
      "metadata": {
        "id": "avYNGBxPYBDE"
      }
    },
    {
      "cell_type": "code",
      "source": [
        "from sklearn.preprocessing import RobustScaler\n",
        "stdsc = RobustScaler()\n",
        "X_train_std_r = stdsc.fit_transform(X_train)\n",
        "X_test_std_r = stdsc.transform(X_test)"
      ],
      "metadata": {
        "id": "-Ts9nc3qYFYS"
      },
      "execution_count": null,
      "outputs": []
    },
    {
      "cell_type": "code",
      "source": [
        "X_train_std_1 = stdsc.fit_transform(X_train1)\n",
        "X_test_std_1 = stdsc.transform(X_test1)"
      ],
      "metadata": {
        "id": "CKBT1ltqrWYt"
      },
      "execution_count": null,
      "outputs": []
    },
    {
      "cell_type": "markdown",
      "source": [
        "# Aplicação dos Modelos"
      ],
      "metadata": {
        "id": "MDXtjKCmxYdK"
      }
    },
    {
      "cell_type": "code",
      "source": [
        "def plot_confusion_matrix(y_test, y_pred):    \n",
        "    # get confusion matrix from sklearn\n",
        "    cm =confusion_matrix(y_test, y_pred)\n",
        "    # plot using matplotlib and seaborn\n",
        "    plt.figure(figsize=(10, 10))\n",
        "    cmap = sns.cubehelix_palette(50, hue=0.05, rot=0, light=0.9, dark=0,\n",
        "    as_cmap=True)\n",
        "    sns.set(font_scale=2.5)\n",
        "    sns.heatmap(cm, annot=True, cmap=cmap, cbar=False)"
      ],
      "metadata": {
        "id": "9OiAMnpZOYs4"
      },
      "execution_count": null,
      "outputs": []
    },
    {
      "cell_type": "code",
      "source": [
        ""
      ],
      "metadata": {
        "id": "FWvVPWHxyakx"
      },
      "execution_count": null,
      "outputs": []
    },
    {
      "cell_type": "code",
      "source": [
        "CheckModels(X_train_std , y_train, X_test_std, y_test)"
      ],
      "metadata": {
        "colab": {
          "base_uri": "https://localhost:8080/"
        },
        "id": "bWOI9v0905Wx",
        "outputId": "784581cb-de2f-485e-c14b-29738134ca5e"
      },
      "execution_count": null,
      "outputs": [
        {
          "output_type": "stream",
          "name": "stdout",
          "text": [
            "Accurary for model RandomForest is = 0.950\n",
            "roc for model RandomForest is = 0.911\n",
            "f1_score for model RandomForest is = 0.949\n",
            "------------------------------------------\n",
            "Accurary for model GBoosting is = 0.779\n",
            "roc for model GBoosting is = 0.569\n",
            "f1_score for model GBoosting is = 0.716\n",
            "------------------------------------------\n",
            "Accurary for model SVC is = 0.971\n",
            "roc for model SVC is = 0.942\n",
            "f1_score for model SVC is = 0.970\n",
            "------------------------------------------\n",
            "Accurary for model LogisticRegression is = 0.904\n",
            "roc for model LogisticRegression is = 0.864\n",
            "f1_score for model LogisticRegression is = 0.903\n",
            "------------------------------------------\n",
            "Accurary for model DecisionTreeClassifier is = 0.950\n",
            "roc for model DecisionTreeClassifier is = 0.928\n",
            "f1_score for model DecisionTreeClassifier is = 0.950\n",
            "------------------------------------------\n",
            "Accurary for model knn is = 0.829\n",
            "roc for model knn is = 0.753\n",
            "f1_score for model knn is = 0.826\n",
            "------------------------------------------\n"
          ]
        }
      ]
    },
    {
      "cell_type": "code",
      "source": [
        "CheckModels(X_train_norm , y_train, X_test_norm, y_test)"
      ],
      "metadata": {
        "colab": {
          "base_uri": "https://localhost:8080/"
        },
        "id": "b_PuxHDMUHJI",
        "outputId": "c50c0cf9-e9cb-4f81-9c50-9988e80837b8"
      },
      "execution_count": null,
      "outputs": [
        {
          "output_type": "stream",
          "name": "stdout",
          "text": [
            "Accurary for model RandomForest is = 0.950\n",
            "roc for model RandomForest is = 0.911\n",
            "f1_score for model RandomForest is = 0.949\n",
            "------------------------------------------\n",
            "Accurary for model GBoosting is = 0.875\n",
            "roc for model GBoosting is = 0.817\n",
            "f1_score for model GBoosting is = 0.873\n",
            "------------------------------------------\n",
            "Accurary for model SVC is = 0.971\n",
            "roc for model SVC is = 0.942\n",
            "f1_score for model SVC is = 0.970\n",
            "------------------------------------------\n",
            "Accurary for model LogisticRegression is = 0.883\n",
            "roc for model LogisticRegression is = 0.822\n",
            "f1_score for model LogisticRegression is = 0.880\n",
            "------------------------------------------\n",
            "Accurary for model DecisionTreeClassifier is = 0.950\n",
            "roc for model DecisionTreeClassifier is = 0.928\n",
            "f1_score for model DecisionTreeClassifier is = 0.950\n",
            "------------------------------------------\n",
            "Accurary for model knn is = 0.817\n",
            "roc for model knn is = 0.733\n",
            "f1_score for model knn is = 0.812\n",
            "------------------------------------------\n"
          ]
        }
      ]
    },
    {
      "cell_type": "code",
      "source": [
        "CheckModels(X_train_std_r , y_train, X_test_std_r, y_test)"
      ],
      "metadata": {
        "colab": {
          "base_uri": "https://localhost:8080/"
        },
        "id": "AD_iSOHGYcWS",
        "outputId": "e5f4f76a-8435-4a2c-e3fc-72a41234f23f"
      },
      "execution_count": null,
      "outputs": [
        {
          "output_type": "stream",
          "name": "stdout",
          "text": [
            "Accurary for model RandomForest is = 0.954\n",
            "roc for model RandomForest is = 0.914\n",
            "f1_score for model RandomForest is = 0.953\n",
            "------------------------------------------\n",
            "Accurary for model GBoosting is = 0.858\n",
            "roc for model GBoosting is = 0.772\n",
            "f1_score for model GBoosting is = 0.852\n",
            "------------------------------------------\n",
            "Accurary for model SVC is = 0.971\n",
            "roc for model SVC is = 0.942\n",
            "f1_score for model SVC is = 0.970\n",
            "------------------------------------------\n",
            "Accurary for model LogisticRegression is = 0.904\n",
            "roc for model LogisticRegression is = 0.864\n",
            "f1_score for model LogisticRegression is = 0.903\n",
            "------------------------------------------\n",
            "Accurary for model DecisionTreeClassifier is = 0.950\n",
            "roc for model DecisionTreeClassifier is = 0.928\n",
            "f1_score for model DecisionTreeClassifier is = 0.950\n",
            "------------------------------------------\n",
            "Accurary for model knn is = 0.812\n",
            "roc for model knn is = 0.703\n",
            "f1_score for model knn is = 0.801\n",
            "------------------------------------------\n"
          ]
        }
      ]
    },
    {
      "cell_type": "code",
      "source": [
        "CheckModels(X_train_std_1 , y_train1, X_test_std_1, y_test1)"
      ],
      "metadata": {
        "colab": {
          "base_uri": "https://localhost:8080/"
        },
        "id": "zkSSmXkNryfk",
        "outputId": "dc7f4e83-771d-41ea-eb2f-7a7c14cc53e2"
      },
      "execution_count": null,
      "outputs": [
        {
          "output_type": "stream",
          "name": "stdout",
          "text": [
            "Accurary for model RandomForest is = 0.950\n",
            "f1_score for model RandomForest is = 0.949\n",
            "------------------------------------------\n",
            "Accurary for model GBoosting is = 0.854\n",
            "f1_score for model GBoosting is = 0.848\n",
            "------------------------------------------\n",
            "Accurary for model SVC is = 0.975\n",
            "f1_score for model SVC is = 0.975\n",
            "------------------------------------------\n",
            "Accurary for model LogisticRegression is = 0.904\n",
            "f1_score for model LogisticRegression is = 0.903\n",
            "------------------------------------------\n",
            "Accurary for model DecisionTreeClassifier is = 0.942\n",
            "f1_score for model DecisionTreeClassifier is = 0.942\n",
            "------------------------------------------\n",
            "Accurary for model knn is = 0.812\n",
            "f1_score for model knn is = 0.801\n",
            "------------------------------------------\n"
          ]
        }
      ]
    },
    {
      "cell_type": "markdown",
      "source": [
        "## Hyperparameter Tunning"
      ],
      "metadata": {
        "id": "5-3YlYkmF_76"
      }
    },
    {
      "cell_type": "code",
      "source": [
        "def TuneModels(dfX, dfY, dfx, dfy):\n",
        "    \n",
        "    LModels = [\"RandomForest\", \"GBoosting\", \"SVC\", \"LogisticRegression\", \"DecisionTreeClassifier\", \"knn\"]\n",
        "\n",
        "    for Classifier in LModels:\n",
        "        ## Model training\n",
        "        if Classifier==\"RandomForest\":\n",
        "            rf = RandomForestClassifier(random_state=rstate)\n",
        "            rf.fit(dfX, dfY)\n",
        "            y_pred_rf = rf.predict(dfx)\n",
        "        if Classifier==\"SVC\":       \n",
        "            svc= SVC(kernel='rbf', C=1.0, random_state=rstate, gamma = 0.2)\n",
        "            svc.fit(dfX, dfY)\n",
        "            y_pred_svc = svc.predict(dfx)\n",
        "        if Classifier==\"GBoosting\":\n",
        "            xgb = GradientBoostingClassifier(random_state=rstate)\n",
        "            xgb.fit(dfX, dfY)\n",
        "            y_pred_xgb = xgb.predict(dfx)\n",
        "        if Classifier==\"LogisticRegression\":\n",
        "            lr = LogisticRegression(random_state=rstate)\n",
        "            lr.fit(dfX, dfY)\n",
        "            y_pred_lr = lr.predict(dfx)\n",
        "        if Classifier== \"DecisionTreeClassifier\":\n",
        "            tree = DecisionTreeClassifier(random_state= rstate)\n",
        "            tree.fit(dfX, dfY)\n",
        "            y_pred_t = tree.predict(dfx)\n",
        "        if Classifier== \"knn\":\n",
        "            knn = KNeighborsClassifier(n_neighbors=6)\n",
        "            knn.fit(dfX, dfY)\n",
        "            y_pred_knn = knn.predict(dfx)\n",
        "        \n",
        "    predictors = [y_pred_rf,  y_pred_svc, y_pred_xgb, y_pred_lr, y_pred_t, y_pred_knn]\n",
        "        \n",
        "    for y, x in zip(predictors, LModels) :\n",
        "      acc = accuracy_score(dfy, y)\n",
        "      wf1 = f1_score(dfy, y, average='weighted')\n",
        "      roc = roc_auc_score(dfy, y)\n",
        "      \n",
        "      print(f\"Accurary for model {x} is = {acc:.3f}\")      \n",
        "      print(f\"roc for model {x} is = {roc:.3f}\")\n",
        "      print(f\"f1_score for model {x} is = {wf1:.3f}\")\n",
        "      print('------------------------------------------')"
      ],
      "metadata": {
        "id": "BfwT-06DGE-d"
      },
      "execution_count": null,
      "outputs": []
    }
  ]
}